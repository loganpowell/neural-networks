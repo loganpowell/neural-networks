{
 "cells": [
  {
   "cell_type": "markdown",
   "metadata": {},
   "source": [
    "# KMeans Clustering with LLM-Augmented Labels\n",
    "\n",
    "Herein, we leverage `sci-kit learn`'s `KMeans` clustering algorithm to cluster embeddings\n",
    "generated from a neural network into `n` clusters. We then use the cluster assignments as\n",
    "bundles of similar text. Each of these bundles are passed to an LLM to generate a\n",
    "descriptive label for the cluster.\n",
    "\n",
    "## Pros and Cons of Approach\n",
    "\n",
    "| Pros                                                | Cons                                      |\n",
    "| --------------------------------------------------- | ----------------------------------------- |\n",
    "| No need for labeled data                            | LLMs are slow to generate labels          |\n",
    "| Can be used to generate labels for any type of data | Clustering is sensitive to initialization |\n"
   ]
  },
  {
   "cell_type": "code",
   "execution_count": 40,
   "metadata": {},
   "outputs": [
    {
     "name": "stdout",
     "output_type": "stream",
     "text": [
      "Number of results: 50\n"
     ]
    },
    {
     "data": {
      "text/plain": [
       "[{'title': 'Look up standard tax rates in O Series',\n",
       "  'heading': 'Look up tax rates by jurisdiction',\n",
       "  'content': 'Look up tax rates by jurisdiction  Searching by jurisdiction returns only the rates for the selected jurisdictions. To  look up rates for a jurisdiction:  1. Navigate to Tools > Rate Lookup > By Jurisdiction. 2. Click next to the Jurisdictions field to display the Select Jurisdictions dialog box and select jurisdictions for  which you want to see rates. 3. To refine your search, click Advanced Search. See \"Advanced Search criteria\" in this article for details. 4. Click Search. All tax-rate data that O Series found for the criteria displays.  This example requests the tax rates for both Pennsylvania and Philadelphia and is  useful for seeing the components of the total 8% sales tax that is charged for purchases  in Philadelphia.     Look up tax rates by Tax Area ID  Searching by tax area returns only the rates for the selected Tax Area ID.  1. Navigate to Tools > Rate Lookup > By Tax Area. 2. Identify the Tax Area ID in one of these ways:  \\t* Enter the ID in the Tax Area ID field. \\t* Click next to the Tax Area ID field to display the Select Tax Area ID dialog box, where you can enter either the \\t Tax Area ID or as much jurisdiction information as possible. Click Search, select the radio button for the Tax Area ID of interest, and click Select. 3. To refine your search, click Advanced Search. See \"Advanced Search criteria\" in this article for details. 4. Click Search. All tax-rate data that O Series found for the criteria displays.  This example shows the tax rate for Tax Area ID 391013000, which corresponds to Philadelphia.  If you already know a Tax Area ID, this method of rate lookup is the most efficient.',\n",
       "  'url': 'https://community.vertexinc.com/s/document-item?bundleId=COSTools&topicId=RateLookup.html&_LANG=enus',\n",
       "  'product': ['O Series Cloud', 'O Series On Demand', 'O Series On Premise'],\n",
       "  'score': 0.86309415},\n",
       " {'title': 'Vertex Payroll Tax forms for Pennsylvania Local Services Tax',\n",
       "  'heading': 'Vertex Payroll Tax forms for Pennsylvania Local Services Tax',\n",
       "  'content': \"Vertex Payroll Tax forms for Pennsylvania Local Services Tax  Payroll Tax calculates Pennsylvania Local Services Tax (LST) whether or not you use the form.  However, the form provides greater precision in the calculation, such as allowing  catch-up withholding if needed.  Read about the Pennsylvania LST.     PA\\\\_LST forms  Pass in these multi-value forms to:  * Set the primary Pennsylvania work location if an employee works in multiple Pennsylvania  locations. * Calculate the prorated employee deduction for the local services tax (LST) in the  Pennsylvania municipalities where your company is located.  You can use these forms even if you are claiming one of the valid exemptions.      Calculation  The PA\\\\_LST forms use the following basic calculation to determine the deduction per  pay period:   Maximum annual Local Services Tax amount   ÷ Number of pay periods in a year   \\\\_\\\\_\\\\_\\\\_\\\\_\\\\_\\\\_\\\\_\\\\_\\\\_\\\\_\\\\_\\\\_\\\\_\\\\_\\\\_\\\\_\\\\_\\\\_\\\\_\\\\_\\\\_\\\\_\\\\_\\\\_\\\\_\\\\_\\\\_\\\\_\\\\_\\\\_\\\\_\\\\_\\\\_\\\\_\\\\_\\\\_\\\\_\\\\_  Round the resulting tax amount value down to the nearest penny      Use a form to set a primary work location for period-to-date tax amounts  If the period-to-date tax amount is less than the per-pay period prorated amount for  the local jurisdiction, Payroll Tax deducts the remainder of that amount during the current pay period (except as constrained  by local and statewide limits).  First, Payroll Tax checks for a combination of GeoCode and taxingLocationType with a period-to-date  amount.  If none is found, Payroll Tax uses:  * The primary work location set with PA\\\\_LST.PRIMARYWORKLOCATION.  Or  * If there is no form, Payroll Tax uses the primary work location provided in the paycheck request.      Use a form to enable catch-up withholding  The Pennsylvania Local Services Tax is subject to low-income and military exemptions.  If you use the PA\\\\_LST exemption forms, Payroll Tax factors the exemptions into the calculation and tracks the employee's year-to-date  wages.  Using the forms facilitates catch-up withholding if the wages for a previously exempt  employee exceed the low-income limit.\",\n",
       "  'url': 'https://community.vertexinc.com/s/document-item?bundleId=VertexPayrollTaxFormsGuide&topicId=VertexPayrollTaxformsforPennsylvaniaLocalServicesTax.html&_LANG=enus',\n",
       "  'product': ['Payroll Tax'],\n",
       "  'score': 0.85847723},\n",
       " {'title': 'Vertex Payroll Tax forms for Pennsylvania Local Services Tax',\n",
       "  'heading': 'PA\\\\_LST.STATE\\\\_YTD\\\\_PREV',\n",
       "  'content': 'PA\\\\_LST.STATE\\\\_YTD\\\\_PREV  Pass in a dollar amount representing the statewide taxes paid at a previous employer.  You must supply this field if you do not supply paycheck requests that have year-to-date tax  amounts from past pay periods, but no gross pay for the current pay period. (The information  is needed for Payroll Tax to confirm that the statewide $52 tax limit is not exceeded.)   You can omit this form if the employee did not work for any other Pennsylvania employer  in the calendar year.      Effect on accumulation  Because this field has statewide applicability, if this form is present and populated  on any location with a Pennsylvania GeoCode and a Tax ID of 536, Payroll Tax uses this value as the statewide year-to-date total from previous employers and does  not accumulate tax amounts from other locations.      Conflicting values  If two or more work locations with PA\\\\_LST.STATE\\\\_YTD have conflicting values, calculation  ends.      PA\\\\_LST.LI\\\\_EXEMPTEDPAYPERIOD  This value displays after tax is calculated:  * 0 - A low-income exemption is not valid for this pay period * 1 - A low-income exemption is valid for this pay period  Add this return value to the year-to-date total passed in through the LI\\\\_EXEMPTEDPAYPERIODSYTD  field, in case a catch-up calculation is needed.      Change in pay period frequency  Vertex recommends that you adjust the value of PA\\\\_LST.LI\\\\_EXEMPTEDPAYPERIODSYTD to  base the catch-up calculation on a value that reflects the new pay frequency.',\n",
       "  'url': 'https://community.vertexinc.com/s/document-item?bundleId=VertexPayrollTaxFormsGuide&topicId=VertexPayrollTaxformsforPennsylvaniaLocalServicesTax.html&_LANG=enus',\n",
       "  'product': ['Payroll Tax'],\n",
       "  'score': 0.856731}]"
      ]
     },
     "execution_count": 40,
     "metadata": {},
     "output_type": "execute_result"
    }
   ],
   "source": [
    "import dotenv\n",
    "import os\n",
    "import sys\n",
    "import json\n",
    "\n",
    "from datasets import load_dataset\n",
    "from sklearn.cluster import KMeans\n",
    "\n",
    "sys.path.append(\"../\")\n",
    "\n",
    "from fns import vector_search, get_embeddings\n",
    "\n",
    "dotenv.load_dotenv()\n",
    "\n",
    "# Load the dataset\n",
    "\n",
    "\n",
    "query = \"How do you calculate tax in the state of PA?\"\n",
    "embeddings = get_embeddings(query)[\"data\"][0][\"embedding\"]\n",
    "\n",
    "subset = vector_search(\n",
    "    embeddings,\n",
    "    k=50, # max = 50 without pagination\n",
    ")[\"value\"]\n",
    "\n",
    "def xf_results(results, embeddings = False):\n",
    "    essential = []\n",
    "    for result in results:\n",
    "        prep = {\n",
    "            \"title\": result[\"title\"], \n",
    "            \"heading\": result[\"heading\"],\n",
    "            \"content\": result[\"content\"].strip(), \n",
    "            \"url\": json.loads(result[\"metadata\"])[\"community_url\"],\n",
    "            \"product\": result[\"product\"],\n",
    "            \"score\": result[\"@search.score\"]\n",
    "        }\n",
    "        if embeddings:\n",
    "            prep[\"embeddings\"] = result[\"content_vector\"]\n",
    "        essential.append(prep)\n",
    "    return essential\n",
    "        \n",
    "essentials = xf_results(subset)\n",
    "# print the number of results\n",
    "print(f\"Number of results: {len(essentials)}\")\n",
    "\n",
    "essentials[:3]"
   ]
  },
  {
   "cell_type": "code",
   "execution_count": 41,
   "metadata": {},
   "outputs": [
    {
     "name": "stdout",
     "output_type": "stream",
     "text": [
      "\n",
      "Cluster 0\n",
      "- Look up standard tax rates in O Series - Look up tax rates by jurisdiction\n",
      "- Set up O Series Hospitality for multi-night lodging\n",
      "- Case study: Determine tax payment options for Vertex O Series for Leasing - Determining stream payment taxability\n",
      "- Create an imposition and calculation rule for the franchise fee - Create a user-defined calculation tax rule for your franchise fee\n",
      "- Purchase Order events in O Series - Example of a purchase order transaction\n",
      "- Enter Out-of-State Sales in Vertex Cloud - Entering out-of-state sales in Vertex Cloud\n",
      "- Get Tax Rates for Uploaded Addresses in Vertex Cloud - Getting tax rates for uploaded addresses\n",
      "- View bracket schedules for O Series tax rules - Examples of how a bracket schedule applies\n",
      "- Case study: Determine tax payment options for Vertex O Series for Leasing - Determining upfront payment taxability\n",
      "- Set up O Series Hospitality for multi-night lodging - Apply a tax rate per number of nights stayed\n",
      "- Purchase Order events in O Series - Example of a purchase order transaction\n",
      "- Set up O Series Hospitality for multi-night lodging - Example\n",
      "- View bracket schedules for a calculation rule - Examples of how a bracket schedule applies\n",
      "- Analyze what you want Tax Assist to do in O Series - Example of a post-calculation statement\n",
      "- Three-Tier Tax Structure in Vertex Cloud\n",
      "- Look Up Tax Rates in Vertex Cloud\n",
      "- Gross Receipts Taxes in Vertex Cloud - Hawaii\n",
      "- Vertex Cloud FAQs for Tax Calculation & Adjustments - Why am I getting different tax rates for two transactions going to the same destination?\n",
      "- Maximum Taxes in Vertex Cloud - Tennessee\n",
      "- Look Up Tax Rates in Vertex Cloud\n",
      "- Calculate a Trial Tax Amount Using a Bracket Schedule in Vertex Cloud\n",
      "- Rounding in Vertex Cloud - Example\n",
      "- Configure an Alabama Return to Report Zero Tax in Vertex Cloud - Setting up a return\n",
      "- Edit a bracket schedule in O Series Bracket Management - How to edit a bracket schedule\n",
      "- Turnover Tax Collection Phase 6: Create a calculation rule\n",
      "- Operators in Tax Assist - Math operators\n",
      "- Brazil telecommunications tax: Test for calculation results\n",
      "\n",
      "Cluster 1\n",
      "- Vertex Payroll Tax form for Pennsylvania-Maryland reciprocal exception\n",
      "- Vertex Payroll Tax W-4 calculation process\n",
      "- Vertex® Payroll Tax Release Notes - November 2021 changes\n",
      "- Vertex® Payroll Tax Release Notes - Change to the Maine Withholding Standard Deduction Formula\n",
      "- Vertex Payroll Tax form for Maryland state withholding\n",
      "- Vertex® Payroll Tax Release Notes - Notes:\n",
      "- Vertex® Payroll Tax Release Notes - Change to the Maryland tiered county tables\n",
      "- Vertex® Payroll Tax Release Notes - Note: Maryland law does not permit the use of a rate of less than 4.75% to be used for withholding\n",
      "- Vertex Payroll Tax Forms for Colorado\n",
      "- Vertex Payroll Tax calculation methods\n",
      "- Vertex Payroll Tax Forms for Maryland\n",
      "- Vertex Payroll Tax Forms for Puerto Rico\n",
      "\n",
      "Cluster 2\n",
      "- Vertex Payroll Tax forms for Pennsylvania Local Services Tax\n",
      "- Vertex Payroll Tax forms for Pennsylvania Local Services Tax - PA\\_LST.STATE\\_YTD\\_PREV\n",
      "- Vertex Payroll Tax Forms for Pennsylvania\n",
      "- Pennsylvania State Specifics\n",
      "- Vertex Payroll Tax forms for Pennsylvania Local Services Tax - Use the forms for employees with multiple work locations\n",
      "- Vertex Payroll Tax Pennsylvania Local Services Tax\n",
      "- Vertex Payroll Tax forms for Pennsylvania Local Services Tax - PA\\_LST.LOWINCOMEEXEMPTION\n",
      "- Vertex Payroll Tax forms for Pennsylvania Local Services Tax - PA\\_LST.WORK\\_SCHOOL\\_DISTRICT\n",
      "- Vertex® Payroll Tax Release Notes - Pennsylvania Local Services Tax enhancement – Municipalities with multiple amounts\n",
      "- Vertex Payroll Tax Pennsylvania Local Services Tax - Cloud Payroll Tax LST treatment\n",
      "- Pennsylvania Exemption Reasons in Vertex Cloud\n",
      "\n",
      "tokens:  789\n"
     ]
    }
   ],
   "source": [
    "from sklearn.preprocessing import MinMaxScaler\n",
    "import tiktoken\n",
    "\n",
    "# use text-embedding-ada for tokenization\n",
    "tokenizer = tiktoken.encoding_for_model(\"text-embedding-ada-002\")\n",
    "\n",
    "# separate the embeddings from each dict in the list\n",
    "embeddings = [x[\"embeddings\"] for x in xf_results(subset, embeddings=True)]\n",
    "\n",
    "# scale the embeddings\n",
    "scaler = MinMaxScaler()\n",
    "embeddings = scaler.fit_transform(embeddings)\n",
    "\n",
    "clusters = 3\n",
    "\n",
    "# fit a kmeans model to the embeddings\n",
    "kmeans = KMeans(n_clusters=clusters, random_state=0).fit(embeddings)\n",
    "\n",
    "# add the cluster labels to the essentials\n",
    "for i, label in enumerate(kmeans.labels_):\n",
    "    essentials[i][\"cluster\"] = label\n",
    "\n",
    "# create a mapping of the cluster labels to the items in the cluster\n",
    "cluster_map = {}\n",
    "for i, label in enumerate(kmeans.labels_):\n",
    "    if label not in cluster_map:\n",
    "        cluster_map[label] = []\n",
    "    cluster_map[label].append(essentials[i])\n",
    "\n",
    "# sort the clusters by name\n",
    "cluster_map = dict(sorted(cluster_map.items()))\n",
    "\n",
    "def combine_title_heading(item):\n",
    "    return item[\"title\"] + \" - \" + item[\"heading\"] if item[\"heading\"] not in item[\"title\"] else item[\"title\"]\n",
    "\n",
    "prompt_cluster = \"\"\n",
    "#  for each cluster in the map, print the cluster label along with the first few titles in the cluster\n",
    "for label, cluster in cluster_map.items():\n",
    "    prompt_cluster += f\"\\nCluster {label}\\n\"\n",
    "    for item in cluster:\n",
    "        prompt_cluster += \"- \" + combine_title_heading(item) + \"\\n\"\n",
    "\n",
    "print(prompt_cluster)\n",
    "# print the total tokens and total items in the cluster\n",
    "print(\"tokens: \", len(tokenizer.encode(prompt_cluster)))\n"
   ]
  },
  {
   "cell_type": "code",
   "execution_count": 42,
   "metadata": {},
   "outputs": [
    {
     "name": "stdout",
     "output_type": "stream",
     "text": [
      "- Cluster 0: O Series tax setup and configuration\n",
      "- Cluster 1: Vertex Payroll Tax forms and calculations\n",
      "- Cluster 2: Pennsylvania Local Services Tax in Vertex Payroll Tax\n"
     ]
    }
   ],
   "source": [
    "from fns import messages_prompt\n",
    "\n",
    "# ask LLM to create a name for each cluster\n",
    "\n",
    "system_prompt = \"\"\"\n",
    "You are a helpful assistant. You will be provided with a list of clusters of similar titles.\n",
    "Please provide a name for each cluster based on the titles in the cluster.\n",
    "Make sure the names are descriptive, concise, and unique (non-overlapping).\n",
    "\n",
    "# Example input:\n",
    "\n",
    "Cluster 0:\n",
    "- Set up your organization’s taxpayers in O Series\n",
    "- Set up taxpayer registrations in O Series\n",
    "- Set up your organization’s taxpayers in O Series - The General tab\n",
    "\n",
    "Cluster 1:\n",
    "- Your taxpayer hierarchy in O Series - Enabling Adopt Parent Setup\n",
    "- Add a Single Mapping in Vertex Cloud - Steps for adding a mapping\n",
    "- Bulk upload of taxability drivers in O Series - Prepare the taxability driver upload file\n",
    "\n",
    "Cluster 2:\n",
    "- Set up taxpayer registrations in O Series - Add imposition registration details\n",
    "- United Kingdom electronic filing for Making Tax Digital (MTD, VAT 100) in VAT Compliance \n",
    "- Slovakia electronic filing for Intrastat - Arrivals/Dispatch in VAT Compliance \n",
    "\n",
    "# Example output:\n",
    "\n",
    "- 0: taxpayer registration or organization setup\n",
    "- 1: taxpayer hierarchy and taxability drivers\n",
    "- 2: VAT and foreign electronic filing\n",
    "\n",
    "\"\"\"\n",
    "\n",
    "results = messages_prompt([{\n",
    "    \"role\": \"system\",\n",
    "    \"content\": system_prompt\n",
    "}, {\n",
    "    \"role\": \"user\",\n",
    "    \"content\": prompt_cluster\n",
    "}])\n",
    "\n",
    "# print the results\n",
    "print(results)\n"
   ]
  },
  {
   "cell_type": "code",
   "execution_count": 43,
   "metadata": {},
   "outputs": [
    {
     "name": "stdout",
     "output_type": "stream",
     "text": [
      "Cluster names: [('0', 'O Series tax setup and configuration'), ('1', 'Vertex Payroll Tax forms and calculations'), ('2', 'Pennsylvania Local Services Tax in Vertex Payroll Tax')]\n"
     ]
    },
    {
     "data": {
      "text/plain": [
       "{'0': 'O Series tax setup and configuration',\n",
       " '1': 'Vertex Payroll Tax forms and calculations',\n",
       " '2': 'Pennsylvania Local Services Tax in Vertex Payroll Tax'}"
      ]
     },
     "execution_count": 43,
     "metadata": {},
     "output_type": "execute_result"
    }
   ],
   "source": [
    "import re\n",
    "\n",
    "# extract the cluster names from the llm output\n",
    "cluster_names = re.findall(r\"(\\d+): (.+)\", results)\n",
    "\n",
    "print(\"Cluster names:\", cluster_names)\n",
    "cluster_names = dict(cluster_names)\n",
    "\n",
    "cluster_names"
   ]
  },
  {
   "cell_type": "code",
   "execution_count": 44,
   "metadata": {},
   "outputs": [
    {
     "name": "stdout",
     "output_type": "stream",
     "text": [
      "\n",
      "O Series tax setup and configuration\n",
      "- Look up standard tax rates in O Series - Look up tax rates by jurisdiction\n",
      "- Set up O Series Hospitality for multi-night lodging\n",
      "- Case study: Determine tax payment options for Vertex O Series for Leasing - Determining stream payment taxability\n",
      "\n",
      "Vertex Payroll Tax forms and calculations\n",
      "- Vertex Payroll Tax form for Pennsylvania-Maryland reciprocal exception\n",
      "- Vertex Payroll Tax W-4 calculation process\n",
      "- Vertex® Payroll Tax Release Notes - November 2021 changes\n",
      "\n",
      "Pennsylvania Local Services Tax in Vertex Payroll Tax\n",
      "- Vertex Payroll Tax forms for Pennsylvania Local Services Tax\n",
      "- Vertex Payroll Tax forms for Pennsylvania Local Services Tax - PA\\_LST.STATE\\_YTD\\_PREV\n",
      "- Vertex Payroll Tax Forms for Pennsylvania\n"
     ]
    }
   ],
   "source": [
    "# rename the cluster keys to the cluster names\n",
    "clustered_map = {cluster_names[str(k)]: v for k, v in cluster_map.items()}\n",
    "\n",
    "# print the first 3 items in each cluster\n",
    "for label, cluster in clustered_map.items():\n",
    "    print(f\"\\n{label}\")\n",
    "    for item in cluster[:3]:\n",
    "        print(\"- \" + combine_title_heading(item))\n"
   ]
  },
  {
   "cell_type": "markdown",
   "metadata": {},
   "source": [
    "## If user down-votes the answer..."
   ]
  },
  {
   "cell_type": "code",
   "execution_count": 45,
   "metadata": {},
   "outputs": [
    {
     "name": "stdout",
     "output_type": "stream",
     "text": [
      "Sorry, which of the following topics are you interested in?\n",
      "1. O Series tax setup and configuration\n",
      "2. Vertex Payroll Tax forms and calculations\n",
      "3. Pennsylvania Local Services Tax in Vertex Payroll Tax\n",
      "4. something else\n"
     ]
    }
   ],
   "source": [
    "# takes the clustered_map and returns a prompt to the user for follow up questions\n",
    "def follow_up_prompt(clustered_map):\n",
    "    prompt = \"Sorry, which of the following topics are you interested in?\\n\"\n",
    "    index = 0\n",
    "    for label, cluster in clustered_map.items():\n",
    "        index += 1\n",
    "        prompt += f\"{index}. {label}\\n\"\n",
    "    index += 1\n",
    "    prompt += f\"{index}. something else\"\n",
    "    return prompt\n",
    "\n",
    "# print the follow up prompt\n",
    "print(follow_up_prompt(clustered_map))"
   ]
  },
  {
   "cell_type": "code",
   "execution_count": 46,
   "metadata": {},
   "outputs": [],
   "source": [
    "# Putting it all together\n",
    "\n",
    "# function takes the user query and returns the follow up prompt\n",
    "def get_follow_up(query):\n",
    "    \"\"\"\n",
    "    Takes the user query and returns a dict with the following keys:\n",
    "    - top_3: the top 3 results from the vector search\n",
    "    - follow_up: the follow up prompt\n",
    "    \"\"\"\n",
    "    embeddings = get_embeddings(query)[\"data\"][0][\"embedding\"]\n",
    "    subset = vector_search(\n",
    "        embeddings,\n",
    "        k=50, # max = 50 without pagination\n",
    "    )[\"value\"]\n",
    "    essentials = xf_results(subset)\n",
    "    tokenizer = tiktoken.encoding_for_model(\"text-embedding-ada-002\")\n",
    "    embeddings = [x[\"embeddings\"] for x in xf_results(subset, embeddings=True)]\n",
    "    scaler = MinMaxScaler()\n",
    "    embeddings = scaler.fit_transform(embeddings)\n",
    "    clusters = 3\n",
    "    kmeans = KMeans(n_clusters=clusters, random_state=0).fit(embeddings)\n",
    "    for i, label in enumerate(kmeans.labels_):\n",
    "        essentials[i][\"cluster\"] = label\n",
    "    cluster_map = {}\n",
    "    for i, label in enumerate(kmeans.labels_):\n",
    "        if label not in cluster_map:\n",
    "            cluster_map[label] = []\n",
    "        cluster_map[label].append(essentials[i])\n",
    "    cluster_map = dict(sorted(cluster_map.items()))\n",
    "    prompt_cluster = \"\"\n",
    "    for label, cluster in cluster_map.items():\n",
    "        prompt_cluster += f\"\\nCluster {label}\\n\"\n",
    "        for item in cluster:\n",
    "            prompt_cluster += \"- \" + combine_title_heading(item) + \"\\n\"\n",
    "    system_prompt = \"\"\"\n",
    "    You are a helpful assistant. You will be provided with a list of clusters of similar titles.\n",
    "    Please provide a name for each cluster based on the titles in the cluster.\n",
    "    Make sure the names are descriptive, concise, and unique (non-overlapping).\n",
    "    \"\"\"\n",
    "    results = messages_prompt([{\n",
    "        \"role\": \"system\",\n",
    "        \"content\": system_prompt\n",
    "    }, {\n",
    "        \"role\": \"user\",\n",
    "        \"content\": prompt_cluster\n",
    "    }])\n",
    "    cluster_names = re.findall(r\"(\\d+): (.+)\", results)\n",
    "    cluster_names = dict(cluster_names)\n",
    "    clustered_map = {cluster_names[str(k)]: v for k, v in cluster_map.items()}\n",
    "    return {\n",
    "        \"top_3\": essentials[:3],\n",
    "        \"follow_up\": follow_up_prompt(clustered_map)\n",
    "    }\n",
    "\n"
   ]
  },
  {
   "cell_type": "code",
   "execution_count": 82,
   "metadata": {},
   "outputs": [
    {
     "name": "stdout",
     "output_type": "stream",
     "text": [
      "Query:\n",
      " How do you calculate tax in the state of PA? \n",
      "\n",
      "Top 3 results:\n",
      "- Look up standard tax rates in O Series - Look up tax rates by jurisdiction\n"
     ]
    },
    {
     "data": {
      "text/markdown": [
       "Look up tax rates by jurisdiction  Searching by jurisdiction returns only the rates for the selected jurisdictions. To  look up rates for a jurisdiction:  1. Navigate to Tools > Rate Lookup > By Jurisdiction. 2. Click next to the Jurisdictions field to display the Select Jurisdictions dialog box and select jurisdictions for  which you want to see rates. 3. To refine your search, click Advanced Search. See \"Advanced Search criteria\" in this article for details. 4. Click Search. All tax-rate data that O Series found for the criteria displays.  This example requests the tax rates for both Pennsylvania and Philadelphia and is  useful for seeing the components of the total 8% sales tax that is charged for purchases  in Philadelphia.     Look up tax rates by Tax Area ID  Searching by tax area returns only the rates for the selected Tax Area ID.  1. Navigate to Tools > Rate Lookup > By Tax Area. 2. Identify the Tax Area ID in one of these ways:  \t* Enter the ID in the Tax Area ID field. \t* Click next to the Tax Area ID field to display the Select Tax Area ID dialog box, where you can enter either the \t Tax Area ID or as much jurisdiction information as possible. Click Search, select the radio button for the Tax Area ID of interest, and click Select. 3. To refine your search, click Advanced Search. See \"Advanced Search criteria\" in this article for details. 4. Click Search. All tax-rate data that O Series found for the criteria displays.  This example shows the tax rate for Tax Area ID 391013000, which corresponds to Philadelphia.  If you already know a Tax Area ID, this method of rate lookup is the most efficient."
      ],
      "text/plain": [
       "<IPython.core.display.Markdown object>"
      ]
     },
     "metadata": {},
     "output_type": "display_data"
    },
    {
     "name": "stdout",
     "output_type": "stream",
     "text": [
      "- Vertex Payroll Tax forms for Pennsylvania Local Services Tax\n"
     ]
    },
    {
     "data": {
      "text/markdown": [
       "Vertex Payroll Tax forms for Pennsylvania Local Services Tax  Payroll Tax calculates Pennsylvania Local Services Tax (LST) whether or not you use the form.  However, the form provides greater precision in the calculation, such as allowing  catch-up withholding if needed.  Read about the Pennsylvania LST.     PA\\_LST forms  Pass in these multi-value forms to:  * Set the primary Pennsylvania work location if an employee works in multiple Pennsylvania  locations. * Calculate the prorated employee deduction for the local services tax (LST) in the  Pennsylvania municipalities where your company is located.  You can use these forms even if you are claiming one of the valid exemptions.      Calculation  The PA\\_LST forms use the following basic calculation to determine the deduction per  pay period:   Maximum annual Local Services Tax amount   ÷ Number of pay periods in a year   \\_\\_\\_\\_\\_\\_\\_\\_\\_\\_\\_\\_\\_\\_\\_\\_\\_\\_\\_\\_\\_\\_\\_\\_\\_\\_\\_\\_\\_\\_\\_\\_\\_\\_\\_\\_\\_\\_\\_  Round the resulting tax amount value down to the nearest penny      Use a form to set a primary work location for period-to-date tax amounts  If the period-to-date tax amount is less than the per-pay period prorated amount for  the local jurisdiction, Payroll Tax deducts the remainder of that amount during the current pay period (except as constrained  by local and statewide limits).  First, Payroll Tax checks for a combination of GeoCode and taxingLocationType with a period-to-date  amount.  If none is found, Payroll Tax uses:  * The primary work location set with PA\\_LST.PRIMARYWORKLOCATION.  Or  * If there is no form, Payroll Tax uses the primary work location provided in the paycheck request.      Use a form to enable catch-up withholding  The Pennsylvania Local Services Tax is subject to low-income and military exemptions.  If you use the PA\\_LST exemption forms, Payroll Tax factors the exemptions into the calculation and tracks the employee's year-to-date  wages.  Using the forms facilitates catch-up withholding if the wages for a previously exempt  employee exceed the low-income limit."
      ],
      "text/plain": [
       "<IPython.core.display.Markdown object>"
      ]
     },
     "metadata": {},
     "output_type": "display_data"
    },
    {
     "name": "stdout",
     "output_type": "stream",
     "text": [
      "- Vertex Payroll Tax forms for Pennsylvania Local Services Tax - PA\\_LST.STATE\\_YTD\\_PREV\n"
     ]
    },
    {
     "data": {
      "text/markdown": [
       "PA\\_LST.STATE\\_YTD\\_PREV  Pass in a dollar amount representing the statewide taxes paid at a previous employer.  You must supply this field if you do not supply paycheck requests that have year-to-date tax  amounts from past pay periods, but no gross pay for the current pay period. (The information  is needed for Payroll Tax to confirm that the statewide $52 tax limit is not exceeded.)   You can omit this form if the employee did not work for any other Pennsylvania employer  in the calendar year.      Effect on accumulation  Because this field has statewide applicability, if this form is present and populated  on any location with a Pennsylvania GeoCode and a Tax ID of 536, Payroll Tax uses this value as the statewide year-to-date total from previous employers and does  not accumulate tax amounts from other locations.      Conflicting values  If two or more work locations with PA\\_LST.STATE\\_YTD have conflicting values, calculation  ends.      PA\\_LST.LI\\_EXEMPTEDPAYPERIOD  This value displays after tax is calculated:  * 0 - A low-income exemption is not valid for this pay period * 1 - A low-income exemption is valid for this pay period  Add this return value to the year-to-date total passed in through the LI\\_EXEMPTEDPAYPERIODSYTD  field, in case a catch-up calculation is needed.      Change in pay period frequency  Vertex recommends that you adjust the value of PA\\_LST.LI\\_EXEMPTEDPAYPERIODSYTD to  base the catch-up calculation on a value that reflects the new pay frequency."
      ],
      "text/plain": [
       "<IPython.core.display.Markdown object>"
      ]
     },
     "metadata": {},
     "output_type": "display_data"
    },
    {
     "name": "stdout",
     "output_type": "stream",
     "text": [
      "\n",
      "Follow up:\n",
      "Sorry, which of the following topics are you interested in?\n",
      "1. Tax Calculation and Configuration in Vertex O Series and Vertex Cloud\n",
      "2. Payroll Tax Calculation and Forms in Vertex Payroll\n",
      "3. Pennsylvania Local Services Tax Forms and Specifics\n",
      "4. something else\n"
     ]
    }
   ],
   "source": [
    "from IPython.display import display, Markdown as md\n",
    "\n",
    "# test the function\n",
    "query = \"How do you calculate tax in the state of PA?\"\n",
    "\n",
    "response = get_follow_up(query)\n",
    "\n",
    "# print the title + headings for the top 3 results\n",
    "print(\"Query:\\n\", query, \"\\n\")\n",
    "print(\"Top 3 results:\")\n",
    "for idx, item in enumerate(response[\"top_3\"]):\n",
    "    print(\"-\", combine_title_heading(item))\n",
    "    markdown = md(item[\"content\"])\n",
    "    display(markdown)\n",
    "\n",
    "# pretty print the results\n",
    "print(f\"\\nFollow up:\\n{response[\"follow_up\"]}\")"
   ]
  },
  {
   "cell_type": "code",
   "execution_count": 83,
   "metadata": {},
   "outputs": [
    {
     "name": "stdout",
     "output_type": "stream",
     "text": [
      "Query:\n",
      " How do you calculate tax in the state of PA? (Tax Calculation and Configuration in Vertex O Series and Vertex Cloud) \n",
      "\n",
      "Top 3 results:\n",
      "- Pennsylvania State Specifics\n"
     ]
    },
    {
     "data": {
      "text/markdown": [
       "Pennsylvania State Specifics  This article provides information about configuring Pennsylvania returns and prepayments  in Vertex Cloud.  Note: For specific information issued by the Pennsylvania Department of Revenue, refer to  https://revenue.pa.gov.     Returns  Enter your license number as the registration number.  Vertex Cloud supports the following state returns:  \n",
       "\n",
       "| Return | Notes |\n",
       "| --- | --- |\n",
       "| Sales/Use/Hotel Tax (PA-3) | This return has the optional EDI Reference Schedule. This schedule shows data that will be generated in the EDI file. This schedule is informational only, and is not required to generate an EDI file. Choose how to report location data. You can report all locations on one return, or you can report each location on a separate return. You must file this return electronically. |\n",
       "| Prepayment Form for PA-3 | If you are required to make estimated prepayments, register this form and configure a prepayment amount. This form is informational only. Do not submit this form to the state. |\n",
       "\n",
       "\n",
       "    Prepayments  If you are required to make prepayments:  1. Register the Prepayment Form for PA-3 in Vertex Cloud and configure a prepayment amount. 2. Vertex Cloud uses this prepayment form to calculate the estimated prepayment amount  for the next reporting month. 3. Use this prepayment amount when you file your tax return for that reporting month. 4. Reconcile the prepayment amount on the tax return for the next reporting month.  Do not submit the prepayment form to the state."
      ],
      "text/plain": [
       "<IPython.core.display.Markdown object>"
      ]
     },
     "metadata": {},
     "output_type": "display_data"
    },
    {
     "name": "stdout",
     "output_type": "stream",
     "text": [
      "- Calculate Taxes in Vertex Cloud\n"
     ]
    },
    {
     "data": {
      "text/markdown": [
       "Calculate Taxes in Vertex Cloud  This video provides an overview of the Calculate Taxes feature in Vertex Cloud.  Vertex Cloud automatically calculates tax for transactions passed from your host system.  You can also use the Calculate Taxes feature to manually calculate taxes. For example,  you might want to test your configuration, troubleshoot issues, or give a quote to  a customer. If you have the Admin role, you can optionally post these manual tax calculations  to the Tax Journal for inclusion on the associated returns.     Before you begin calculating taxes  You must have one of the following roles to use the Calculates Taxes feature:  * Vertex Cloud Indirect Tax Admin – This role allows you to calculate taxes and post  transactions. * Vertex Cloud Indirect Tax Read Only – This role allows you to calculate taxes only.  Refer to the article User Roles for more information.     Calculating taxes  To manually calculate taxes, select Calculate Taxes > Calculate Taxes on the Vertex Cloud menu. The Calculate Taxes page displays the following sections, which  are described in the rest of this article:  * Transaction Details * Shipping Information * Discount Codes (if your host system supports discount codes) * Line Items * Results * Post or Close/Cancel the Transaction"
      ],
      "text/plain": [
       "<IPython.core.display.Markdown object>"
      ]
     },
     "metadata": {},
     "output_type": "display_data"
    },
    {
     "name": "stdout",
     "output_type": "stream",
     "text": [
      "- Configure a Professional Tax Calculations Subscription in Vertex Cloud\n"
     ]
    },
    {
     "data": {
      "text/markdown": [
       "Configure a Professional Tax Calculations Subscription in Vertex Cloud  A Professional Tax Calculations subscription gives you the ability to configure taxability  mappings, manage customer exemptions, and calculate taxes. You cannot generate signature-ready  PDF returns.  If you have a Professional Tax Calculations subscription, you must configure a company  and enable at least one jurisdiction. Locations are optional. Refer to the following  articles for specific instructions:  * Add a Company * Enable a State, Territory, or Province Jurisdiction * Configure a Location (optional)  If you have a Professional Tax Calculations subscription, you can export data from  the reporting database for a specific company. You can export data for a filing period  or a data range. You can then import the exported data into a returns-processing application  and generate returns. Refer to the U.S. and Canada Compliance File and International Compliance File articles for details.     Related articles  * Manage my subscription * Edit Your Account Contact Information * Add a User * Change Your Password * Create a credential in Vertex Cloud * Manage Access to your Referred Vertex Cloud Account * Vertex Cloud Security"
      ],
      "text/plain": [
       "<IPython.core.display.Markdown object>"
      ]
     },
     "metadata": {},
     "output_type": "display_data"
    },
    {
     "name": "stdout",
     "output_type": "stream",
     "text": [
      "\n",
      "Follow up:\n",
      "Sorry, which of the following topics are you interested in?\n",
      "1. Tax Calculation and Configuration in Vertex O Series for Leasing\n",
      "2. Tax Calculation and Adjustments in Vertex Cloud\n",
      "3. Account Setup and Configuration in Vertex Cloud\n",
      "4. something else\n"
     ]
    }
   ],
   "source": [
    "\n",
    "def get_name_from_choice(choice, follow_up_prompt):\n",
    "    \"\"\"\n",
    "    Takes the follow up prompt and the user's choice and returns the name of the cluster\n",
    "    \"\"\"\n",
    "    items = re.findall(r\"(\\d+). (.+)\", follow_up_prompt)\n",
    "    #print(\"items\", items)\n",
    "    items = dict(items)\n",
    "    return items[str(choice)]\n",
    "\n",
    "# test the function\n",
    "choice = 1\n",
    "chosen = get_name_from_choice(choice, response[\"follow_up\"])\n",
    "\n",
    "# add chosen to the query and get the results\n",
    "\n",
    "updated_query = f\"{query} ({chosen.replace('\"', '')})\"\n",
    "response2 = get_follow_up(updated_query)\n",
    "\n",
    "# print the title + headings for the top 3 results\n",
    "print(\"Query:\\n\", updated_query, \"\\n\")\n",
    "print(\"Top 3 results:\")\n",
    "for idx, item in enumerate(response2[\"top_3\"]):\n",
    "    print(\"-\", combine_title_heading(item))\n",
    "    markdown = md(item[\"content\"])\n",
    "    display(markdown)\n",
    "\n",
    "# pretty print the results\n",
    "print(f\"\\nFollow up:\\n{response2[\"follow_up\"]}\")\n",
    "\n"
   ]
  }
 ],
 "metadata": {
  "kernelspec": {
   "display_name": ".venv",
   "language": "python",
   "name": "python3"
  },
  "language_info": {
   "codemirror_mode": {
    "name": "ipython",
    "version": 3
   },
   "file_extension": ".py",
   "mimetype": "text/x-python",
   "name": "python",
   "nbconvert_exporter": "python",
   "pygments_lexer": "ipython3",
   "version": "3.12.0"
  }
 },
 "nbformat": 4,
 "nbformat_minor": 2
}
