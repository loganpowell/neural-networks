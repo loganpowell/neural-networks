{
 "cells": [
  {
   "cell_type": "markdown",
   "metadata": {},
   "source": [
    "# Neural Network from Scratch\n",
    "\n",
    "This notebook is a simple implementation of a neural network from scratch. The\n",
    "purpose of this notebook is to understand the working of a neural network and to\n",
    "understand the mathematics behind it.\n"
   ]
  },
  {
   "cell_type": "code",
   "execution_count": 1,
   "metadata": {},
   "outputs": [
    {
     "data": {
      "text/html": [
       "<div>\n",
       "<style scoped>\n",
       "    .dataframe tbody tr th:only-of-type {\n",
       "        vertical-align: middle;\n",
       "    }\n",
       "\n",
       "    .dataframe tbody tr th {\n",
       "        vertical-align: top;\n",
       "    }\n",
       "\n",
       "    .dataframe thead th {\n",
       "        text-align: right;\n",
       "    }\n",
       "</style>\n",
       "<table border=\"1\" class=\"dataframe\">\n",
       "  <thead>\n",
       "    <tr style=\"text-align: right;\">\n",
       "      <th></th>\n",
       "      <th>5</th>\n",
       "      <th>0</th>\n",
       "      <th>0.1</th>\n",
       "      <th>0.2</th>\n",
       "      <th>0.3</th>\n",
       "      <th>0.4</th>\n",
       "      <th>0.5</th>\n",
       "      <th>0.6</th>\n",
       "      <th>0.7</th>\n",
       "      <th>0.8</th>\n",
       "      <th>...</th>\n",
       "      <th>0.608</th>\n",
       "      <th>0.609</th>\n",
       "      <th>0.610</th>\n",
       "      <th>0.611</th>\n",
       "      <th>0.612</th>\n",
       "      <th>0.613</th>\n",
       "      <th>0.614</th>\n",
       "      <th>0.615</th>\n",
       "      <th>0.616</th>\n",
       "      <th>0.617</th>\n",
       "    </tr>\n",
       "  </thead>\n",
       "  <tbody>\n",
       "    <tr>\n",
       "      <th>0</th>\n",
       "      <td>0</td>\n",
       "      <td>0</td>\n",
       "      <td>0</td>\n",
       "      <td>0</td>\n",
       "      <td>0</td>\n",
       "      <td>0</td>\n",
       "      <td>0</td>\n",
       "      <td>0</td>\n",
       "      <td>0</td>\n",
       "      <td>0</td>\n",
       "      <td>...</td>\n",
       "      <td>0</td>\n",
       "      <td>0</td>\n",
       "      <td>0</td>\n",
       "      <td>0</td>\n",
       "      <td>0</td>\n",
       "      <td>0</td>\n",
       "      <td>0</td>\n",
       "      <td>0</td>\n",
       "      <td>0</td>\n",
       "      <td>0</td>\n",
       "    </tr>\n",
       "    <tr>\n",
       "      <th>1</th>\n",
       "      <td>4</td>\n",
       "      <td>0</td>\n",
       "      <td>0</td>\n",
       "      <td>0</td>\n",
       "      <td>0</td>\n",
       "      <td>0</td>\n",
       "      <td>0</td>\n",
       "      <td>0</td>\n",
       "      <td>0</td>\n",
       "      <td>0</td>\n",
       "      <td>...</td>\n",
       "      <td>0</td>\n",
       "      <td>0</td>\n",
       "      <td>0</td>\n",
       "      <td>0</td>\n",
       "      <td>0</td>\n",
       "      <td>0</td>\n",
       "      <td>0</td>\n",
       "      <td>0</td>\n",
       "      <td>0</td>\n",
       "      <td>0</td>\n",
       "    </tr>\n",
       "    <tr>\n",
       "      <th>2</th>\n",
       "      <td>1</td>\n",
       "      <td>0</td>\n",
       "      <td>0</td>\n",
       "      <td>0</td>\n",
       "      <td>0</td>\n",
       "      <td>0</td>\n",
       "      <td>0</td>\n",
       "      <td>0</td>\n",
       "      <td>0</td>\n",
       "      <td>0</td>\n",
       "      <td>...</td>\n",
       "      <td>0</td>\n",
       "      <td>0</td>\n",
       "      <td>0</td>\n",
       "      <td>0</td>\n",
       "      <td>0</td>\n",
       "      <td>0</td>\n",
       "      <td>0</td>\n",
       "      <td>0</td>\n",
       "      <td>0</td>\n",
       "      <td>0</td>\n",
       "    </tr>\n",
       "    <tr>\n",
       "      <th>3</th>\n",
       "      <td>9</td>\n",
       "      <td>0</td>\n",
       "      <td>0</td>\n",
       "      <td>0</td>\n",
       "      <td>0</td>\n",
       "      <td>0</td>\n",
       "      <td>0</td>\n",
       "      <td>0</td>\n",
       "      <td>0</td>\n",
       "      <td>0</td>\n",
       "      <td>...</td>\n",
       "      <td>0</td>\n",
       "      <td>0</td>\n",
       "      <td>0</td>\n",
       "      <td>0</td>\n",
       "      <td>0</td>\n",
       "      <td>0</td>\n",
       "      <td>0</td>\n",
       "      <td>0</td>\n",
       "      <td>0</td>\n",
       "      <td>0</td>\n",
       "    </tr>\n",
       "    <tr>\n",
       "      <th>4</th>\n",
       "      <td>2</td>\n",
       "      <td>0</td>\n",
       "      <td>0</td>\n",
       "      <td>0</td>\n",
       "      <td>0</td>\n",
       "      <td>0</td>\n",
       "      <td>0</td>\n",
       "      <td>0</td>\n",
       "      <td>0</td>\n",
       "      <td>0</td>\n",
       "      <td>...</td>\n",
       "      <td>0</td>\n",
       "      <td>0</td>\n",
       "      <td>0</td>\n",
       "      <td>0</td>\n",
       "      <td>0</td>\n",
       "      <td>0</td>\n",
       "      <td>0</td>\n",
       "      <td>0</td>\n",
       "      <td>0</td>\n",
       "      <td>0</td>\n",
       "    </tr>\n",
       "  </tbody>\n",
       "</table>\n",
       "<p>5 rows × 785 columns</p>\n",
       "</div>"
      ],
      "text/plain": [
       "   5  0  0.1  0.2  0.3  0.4  0.5  0.6  0.7  0.8  ...  0.608  0.609  0.610  \\\n",
       "0  0  0    0    0    0    0    0    0    0    0  ...      0      0      0   \n",
       "1  4  0    0    0    0    0    0    0    0    0  ...      0      0      0   \n",
       "2  1  0    0    0    0    0    0    0    0    0  ...      0      0      0   \n",
       "3  9  0    0    0    0    0    0    0    0    0  ...      0      0      0   \n",
       "4  2  0    0    0    0    0    0    0    0    0  ...      0      0      0   \n",
       "\n",
       "   0.611  0.612  0.613  0.614  0.615  0.616  0.617  \n",
       "0      0      0      0      0      0      0      0  \n",
       "1      0      0      0      0      0      0      0  \n",
       "2      0      0      0      0      0      0      0  \n",
       "3      0      0      0      0      0      0      0  \n",
       "4      0      0      0      0      0      0      0  \n",
       "\n",
       "[5 rows x 785 columns]"
      ]
     },
     "execution_count": 1,
     "metadata": {},
     "output_type": "execute_result"
    }
   ],
   "source": [
    "import numpy as np\n",
    "import pandas as pd\n",
    "from matplotlib import pyplot as plt\n",
    "\n",
    "# You can download the MNIST datasets here:\n",
    "# https://pjreddie.com/projects/mnist-in-csv/\n",
    "# Make sure you save this to the root `data` directory.\n",
    "\n",
    "data = pd.read_csv('../data/mnist_train.csv')\n",
    "data.head()"
   ]
  },
  {
   "cell_type": "code",
   "execution_count": 2,
   "metadata": {},
   "outputs": [],
   "source": [
    "# convert the data to numpy array\n",
    "data = np.array(data)\n",
    "\n",
    "# m = number of examples, n = number of features (pixels) +1 for the label\n",
    "m, n = data.shape \n",
    "\n",
    "# shuffle the data\n",
    "np.random.shuffle(data)\n",
    "\n",
    "# T = transpose the data (each column of the matrix is a different example)\n",
    "# transposition allows easy separation of the labels and the features using\n",
    "# slicing syntax\n",
    "\n",
    "data_dev = data[:1000].T \n",
    "Y_dev = data_dev[0]\n",
    "X_dev = data_dev[1:n]\n",
    "X_dev = X_dev / 255.\n",
    "\n",
    "\n",
    "data_train = data[1000:].T\n",
    "Y_train = data_train[0]\n",
    "X_train = data_train[1:n]\n",
    "X_train = X_train / 255.\n",
    "_,m_train = X_train.shape"
   ]
  },
  {
   "cell_type": "markdown",
   "metadata": {},
   "source": [
    "Our NN will have a simple two-layer architecture. Input layer $a^{[0]}$ will\n",
    "have 784 units corresponding to the 784 pixels in each 28x28 input image. A\n",
    "hidden layer $a^{[1]}$ will have 10 units with ReLU activation, and finally our\n",
    "output layer $a^{[2]}$ will have 10 units corresponding to the ten digit classes\n",
    "with softmax activation.\n",
    "\n",
    "| Variable | Description           |\n",
    "| -------- | --------------------- |\n",
    "| $a$      | Input                 |\n",
    "| $Z$      | Linear transformation |\n",
    "| $A$      | Activation            |\n",
    "| $W$      | Weights               |\n",
    "| $B$      | Bias                  |\n",
    "| $g$      | Activation function   |\n",
    "| $d$      | Derivative            |\n",
    "| $m$      | Number of samples     |\n",
    "| $\\Sigma$ | Summation             |\n",
    "| $\\alpha$ | Learning rate         |\n",
    "| $dW$     | Weight derivative     |\n",
    "| $dB$     | Bias derivative       |\n",
    "\n",
    "**Forward propagation**\n",
    "\n",
    "| Formula                                 | Description                           |\n",
    "| --------------------------------------- | ------------------------------------- |\n",
    "| $Z^{[1]} = W^{[1]} X + b^{[1]}$         | Linear transformation of input        |\n",
    "| $A^{[1]} = g_{\\text{ReLU}}(Z^{[1]})$    | Activation of hidden layer            |\n",
    "| $Z^{[2]} = W^{[2]} A^{[1]} + b^{[2]}$   | Linear transformation of hidden layer |\n",
    "| $A^{[2]} = g_{\\text{softmax}}(Z^{[2]})$ | Activation of output layer            |\n",
    "\n",
    "**Backward propagation**\n",
    "\n",
    "| Formula                                                   | Description                        |\n",
    "| --------------------------------------------------------- | ---------------------------------- |\n",
    "| $dZ^{[2]} = A^{[2]} - Y$                                  | Output layer error                 |\n",
    "| $dW^{[2]} = \\frac{1}{m} dZ^{[2]} A^{[1]T}$                | Weight derivative for output layer |\n",
    "| $dB^{[2]} = \\frac{1}{m} \\Sigma {dZ^{[2]}}$                | Bias derivative for output layer   |\n",
    "| $dZ^{[1]} = W^{[2]T} dZ^{[2]} .* g^{[1]\\prime} (z^{[1]})$ | Hidden layer error                 |\n",
    "| $dW^{[1]} = \\frac{1}{m} dZ^{[1]} A^{[0]T}$                | Weight derivative for hidden layer |\n",
    "| $dB^{[1]} = \\frac{1}{m} \\Sigma {dZ^{[1]}}$                | Bias derivative for hidden layer   |\n",
    "\n",
    "**Parameter updates**\n",
    "\n",
    "| Formula                                | Description                     |\n",
    "| -------------------------------------- | ------------------------------- |\n",
    "| $W^{[2]} := W^{[2]} - \\alpha dW^{[2]}$ | Update weights for output layer |\n",
    "| $b^{[2]} := b^{[2]} - \\alpha db^{[2]}$ | Update bias for output layer    |\n",
    "| $W^{[1]} := W^{[1]} - \\alpha dW^{[1]}$ | Update weights for hidden layer |\n",
    "| $b^{[1]} := b^{[1]} - \\alpha db^{[1]}$ | Update bias for hidden layer    |\n",
    "\n",
    "**Vars and shapes**\n",
    "\n",
    "Forward prop\n",
    "\n",
    "| Var       | Shape                                     | Description                                                           |\n",
    "| --------- | ----------------------------------------- | --------------------------------------------------------------------- |\n",
    "| $A^{[0]}$ | 784 x m ($= X$)                           | Input (image)                                                         |\n",
    "| $Z^{[1]}$ | 10 x m ($\\sim A^{[1]}$)                   | Linear transformation of input (Measuring the strength of each input) |\n",
    "| $W^{[1]}$ | 10 x 784 ($W^{[1]} A^{[0]} \\sim Z^{[1]}$) | Weights for hidden layer (How much each input affects the next)       |\n",
    "| $B^{[1]}$ | 10 x 1                                    | Bias for hidden layer (A constant added to each input)                |\n",
    "| $Z^{[2]}$ | 10 x m ($\\sim A{[2]}$)                    | Linear transformation of hidden layer                                 |\n",
    "| $W^{[2]}$ | 10 x 10 ($W^{[2]} A^{[1]} \\sim Z^{[2]}$)  | Weights for output layer                                              |\n",
    "| $B^{[2]}$ | 10 x 1                                    | Bias for output layer                                                 |\n",
    "\n",
    "Backprop\n",
    "\n",
    "| Var        | Shape               | Description                                                        |\n",
    "| ---------- | ------------------- | ------------------------------------------------------------------ |\n",
    "| $dZ^{[2]}$ | 10 x m ($~A^{[2]}$) | Output layer error                                                 |\n",
    "| $dW^{[2]}$ | 10 x 10             | Weight derivative for output layer (change in weights for output)  |\n",
    "| $dB^{[2]}$ | 10 x 1              | Bias derivative for output layer (change in bias for output layer) |\n",
    "| $dZ^{[1]}$ | 10 x m ($~A^{[1]}$) | Hidden layer error (error in the hidden layer)                     |\n",
    "| $dW^{[1]}$ | 10 x 10             | Weight derivative for hidden layer (change in weights for hidden)  |\n",
    "| $dB^{[1]}$ | 10 x 1              | Bias derivative for hidden layer (change in bias for hidden layer) |\n"
   ]
  },
  {
   "cell_type": "code",
   "execution_count": 3,
   "metadata": {},
   "outputs": [
    {
     "name": "stdout",
     "output_type": "stream",
     "text": [
      "(784, 58999) (58999,)\n"
     ]
    }
   ],
   "source": [
    "# check out the shapes\n",
    "print(X_train.shape, Y_train.shape)\n",
    "# (784 = 28*28 pixels, 58999 = 60000 - 1000 test examples)"
   ]
  },
  {
   "cell_type": "code",
   "execution_count": 4,
   "metadata": {},
   "outputs": [],
   "source": [
    "def init_params():\n",
    "    W1 = np.random.rand(10, 784) - 0.5\n",
    "    b1 = np.random.rand(10, 1) - 0.5\n",
    "    W2 = np.random.rand(10, 10) - 0.5\n",
    "    b2 = np.random.rand(10, 1) - 0.5\n",
    "    return W1, b1, W2, b2\n",
    "\n",
    "def ReLU(Z):\n",
    "    return np.maximum(Z, 0)\n",
    "\n",
    "def softmax(Z):\n",
    "    A = np.exp(Z) / sum(np.exp(Z))\n",
    "    return A\n",
    "    \n",
    "def forward_prop(W1, b1, W2, b2, X):\n",
    "    Z1 = W1.dot(X) + b1\n",
    "    A1 = ReLU(Z1)\n",
    "    Z2 = W2.dot(A1) + b2\n",
    "    A2 = softmax(Z2)\n",
    "    return Z1, A1, Z2, A2\n",
    "\n",
    "def ReLU_deriv(Z):\n",
    "    return Z > 0\n",
    "\n",
    "def one_hot(Y):\n",
    "    one_hot_Y = np.zeros((Y.size, Y.max() + 1))\n",
    "    one_hot_Y[np.arange(Y.size), Y] = 1\n",
    "    one_hot_Y = one_hot_Y.T\n",
    "    return one_hot_Y\n",
    "\n",
    "def backward_prop(Z1, A1, Z2, A2, W1, W2, X, Y):\n",
    "    one_hot_Y = one_hot(Y)\n",
    "    dZ2 = A2 - one_hot_Y\n",
    "    dW2 = 1 / m * dZ2.dot(A1.T)\n",
    "    db2 = 1 / m * np.sum(dZ2)\n",
    "    dZ1 = W2.T.dot(dZ2) * ReLU_deriv(Z1)\n",
    "    dW1 = 1 / m * dZ1.dot(X.T)\n",
    "    db1 = 1 / m * np.sum(dZ1)\n",
    "    return dW1, db1, dW2, db2\n",
    "\n",
    "def update_params(W1, b1, W2, b2, dW1, db1, dW2, db2, alpha):\n",
    "    W1 = W1 - alpha * dW1\n",
    "    b1 = b1 - alpha * db1    \n",
    "    W2 = W2 - alpha * dW2  \n",
    "    b2 = b2 - alpha * db2    \n",
    "    return W1, b1, W2, b2"
   ]
  },
  {
   "cell_type": "code",
   "execution_count": 15,
   "metadata": {},
   "outputs": [],
   "source": [
    "def get_predictions(A2):\n",
    "    return np.argmax(A2, 0)\n",
    "\n",
    "def get_accuracy(predictions, Y):\n",
    "    print(predictions, Y)\n",
    "    return np.sum(predictions == Y) / Y.size\n",
    "\n",
    "def gradient_descent(X, Y, alpha, iterations):\n",
    "    W1, b1, W2, b2 = init_params()\n",
    "    for i in range(iterations):\n",
    "        Z1, A1, Z2, A2 = forward_prop(W1, b1, W2, b2, X)\n",
    "        dW1, db1, dW2, db2 = backward_prop(Z1, A1, Z2, A2, W1, W2, X, Y)\n",
    "        W1, b1, W2, b2 = update_params(W1, b1, W2, b2, dW1, db1, dW2, db2, alpha)\n",
    "        if i % 50 == 0:\n",
    "            print(\"Iteration: \", i)\n",
    "            predictions = get_predictions(A2)\n",
    "            # calc accuracy as a percentage\n",
    "            accuracy = round(get_accuracy(predictions, Y) * 100, 2) \n",
    "            print(\"Accuracy:\", accuracy, \"%\")\n",
    "    return W1, b1, W2, b2"
   ]
  },
  {
   "cell_type": "code",
   "execution_count": 16,
   "metadata": {},
   "outputs": [
    {
     "name": "stdout",
     "output_type": "stream",
     "text": [
      "Iteration:  0\n",
      "[2 8 2 ... 8 2 3] [1 4 3 ... 7 1 0]\n",
      "accuracy: 11.4 %\n",
      "Iteration:  50\n",
      "[1 4 2 ... 8 1 0] [1 4 3 ... 7 1 0]\n",
      "accuracy: 66.14 %\n",
      "Iteration:  100\n",
      "[1 4 2 ... 7 1 0] [1 4 3 ... 7 1 0]\n",
      "accuracy: 77.45 %\n",
      "Iteration:  150\n",
      "[1 4 2 ... 7 1 0] [1 4 3 ... 7 1 0]\n",
      "accuracy: 81.67 %\n",
      "Iteration:  200\n",
      "[1 4 2 ... 7 1 0] [1 4 3 ... 7 1 0]\n",
      "accuracy: 83.79 %\n",
      "Iteration:  250\n",
      "[1 4 2 ... 7 1 0] [1 4 3 ... 7 1 0]\n",
      "accuracy: 85.15 %\n",
      "Iteration:  300\n",
      "[1 4 2 ... 7 1 0] [1 4 3 ... 7 1 0]\n",
      "accuracy: 86.11 %\n",
      "Iteration:  350\n",
      "[1 4 2 ... 7 1 0] [1 4 3 ... 7 1 0]\n",
      "accuracy: 86.8 %\n",
      "Iteration:  400\n",
      "[1 4 2 ... 7 1 0] [1 4 3 ... 7 1 0]\n",
      "accuracy: 87.39 %\n",
      "Iteration:  450\n",
      "[1 4 2 ... 7 1 0] [1 4 3 ... 7 1 0]\n",
      "accuracy: 87.83 %\n"
     ]
    }
   ],
   "source": [
    "W1, b1, W2, b2 = gradient_descent(X_train, Y_train, 0.20, 500)"
   ]
  },
  {
   "cell_type": "code",
   "execution_count": 17,
   "metadata": {},
   "outputs": [],
   "source": [
    "def make_predictions(X, W1, b1, W2, b2):\n",
    "    _, _, _, A2 = forward_prop(W1, b1, W2, b2, X)\n",
    "    predictions = get_predictions(A2)\n",
    "    return predictions\n",
    "\n",
    "def test_prediction(index, W1, b1, W2, b2):\n",
    "    current_image = X_train[:, index, None]\n",
    "    prediction = make_predictions(X_train[:, index, None], W1, b1, W2, b2)\n",
    "    label = Y_train[index]\n",
    "    print(\"Prediction: \", prediction)\n",
    "    print(\"Label: \", label)\n",
    "    \n",
    "    current_image = current_image.reshape((28, 28)) * 255\n",
    "    plt.gray()\n",
    "    plt.imshow(current_image, interpolation='nearest')\n",
    "    plt.show()"
   ]
  },
  {
   "cell_type": "markdown",
   "metadata": {},
   "source": [
    "Let's look at a couple of examples:"
   ]
  },
  {
   "cell_type": "code",
   "execution_count": 18,
   "metadata": {},
   "outputs": [
    {
     "name": "stdout",
     "output_type": "stream",
     "text": [
      "Prediction:  [1]\n",
      "Label:  1\n"
     ]
    },
    {
     "data": {
      "image/png": "[encoded data removed]",
      "text/plain": [
       "<Figure size 640x480 with 1 Axes>"
      ]
     },
     "metadata": {},
     "output_type": "display_data"
    },
    {
     "name": "stdout",
     "output_type": "stream",
     "text": [
      "Prediction:  [4]\n",
      "Label:  4\n"
     ]
    },
    {
     "data": {
      "image/png": "[encoded data removed]",
      "text/plain": [
       "<Figure size 640x480 with 1 Axes>"
      ]
     },
     "metadata": {},
     "output_type": "display_data"
    },
    {
     "name": "stdout",
     "output_type": "stream",
     "text": [
      "Prediction:  [2]\n",
      "Label:  3\n"
     ]
    },
    {
     "data": {
      "image/png": "[encoded data removed]",
      "text/plain": [
       "<Figure size 640x480 with 1 Axes>"
      ]
     },
     "metadata": {},
     "output_type": "display_data"
    },
    {
     "name": "stdout",
     "output_type": "stream",
     "text": [
      "Prediction:  [5]\n",
      "Label:  3\n"
     ]
    },
    {
     "data": {
      "image/png": "[encoded data removed]",
      "text/plain": [
       "<Figure size 640x480 with 1 Axes>"
      ]
     },
     "metadata": {},
     "output_type": "display_data"
    }
   ],
   "source": [
    "test_prediction(0, W1, b1, W2, b2)\n",
    "test_prediction(1, W1, b1, W2, b2)\n",
    "test_prediction(2, W1, b1, W2, b2)\n",
    "test_prediction(3, W1, b1, W2, b2)"
   ]
  },
  {
   "cell_type": "markdown",
   "metadata": {},
   "source": [
    "Finally, let's find the accuracy on the dev set:"
   ]
  },
  {
   "cell_type": "code",
   "execution_count": 19,
   "metadata": {},
   "outputs": [
    {
     "name": "stdout",
     "output_type": "stream",
     "text": [
      "[0 7 1 1 7 1 8 0 3 7 8 7 4 8 0 7 3 7 3 2 7 2 2 0 9 3 0 2 4 4 2 6 6 7 1 7 8\n",
      " 1 3 0 0 7 6 8 2 8 4 4 3 5 6 7 4 2 2 0 6 6 6 0 0 3 4 3 4 2 7 8 2 2 8 6 7 3\n",
      " 7 0 2 3 9 8 4 6 1 9 3 8 8 1 2 9 0 3 1 1 4 8 6 7 7 6 8 2 4 6 5 3 5 4 1 2 5\n",
      " 4 9 0 3 7 3 9 8 6 3 0 3 7 3 3 1 9 2 1 7 3 9 4 2 4 7 2 4 8 4 3 1 9 7 4 5 8\n",
      " 2 9 3 5 5 8 1 2 7 3 5 2 5 4 8 5 1 2 0 8 1 6 8 1 8 0 1 8 8 9 3 1 0 8 3 7 2\n",
      " 9 7 5 0 5 2 3 5 7 8 7 9 4 1 0 9 0 5 7 4 3 7 6 8 9 8 0 2 9 4 2 9 7 9 0 6 9\n",
      " 1 6 4 5 6 6 1 5 6 4 4 9 1 2 5 6 6 4 2 3 1 1 4 1 6 6 3 8 0 2 0 3 9 7 1 6 7\n",
      " 6 3 7 6 9 4 1 3 2 2 3 7 3 3 3 8 5 7 1 9 6 4 7 4 2 4 8 4 3 2 7 6 5 5 5 1 4\n",
      " 8 3 3 0 6 6 0 0 3 2 6 5 5 6 1 4 8 8 9 7 0 0 4 6 1 4 0 7 3 0 6 2 0 2 3 0 7\n",
      " 6 7 9 9 5 7 0 7 5 2 9 5 2 3 9 6 5 5 7 5 7 6 7 3 3 1 9 2 7 6 3 1 1 2 2 8 4\n",
      " 5 7 8 4 2 7 4 6 6 1 6 8 6 5 2 2 4 3 7 8 7 4 1 8 3 0 6 2 7 2 6 5 5 2 1 7 8\n",
      " 4 8 1 9 4 2 9 3 1 5 4 1 8 8 3 9 8 5 2 4 8 9 2 3 6 8 4 6 3 2 7 0 9 1 4 1 6\n",
      " 8 7 4 9 6 0 5 6 9 4 1 1 0 3 2 0 7 2 1 1 3 4 6 4 3 2 8 2 0 6 7 1 0 8 2 1 3\n",
      " 3 9 2 2 3 6 8 0 7 3 3 5 6 8 5 7 9 9 4 8 3 7 5 3 2 4 8 1 6 4 4 0 6 2 5 5 1\n",
      " 2 2 0 4 0 2 2 2 3 7 7 3 2 9 5 5 2 7 4 1 5 9 2 0 6 7 1 1 5 8 7 4 7 2 6 8 4\n",
      " 9 4 6 0 9 4 0 2 8 9 0 1 6 6 5 9 6 7 0 8 2 0 1 9 0 3 8 4 6 0 8 1 1 9 8 9 5\n",
      " 9 3 3 0 7 6 2 9 4 6 5 3 8 4 3 0 9 2 8 3 7 1 2 4 5 4 3 4 5 4 7 7 5 0 6 6 3\n",
      " 1 6 0 3 3 3 3 8 0 7 7 7 7 3 0 4 4 0 0 9 6 3 0 0 4 4 7 1 1 0 5 7 1 0 0 1 4\n",
      " 1 4 9 3 6 0 7 3 6 1 9 8 8 7 7 3 0 3 9 7 1 6 5 1 5 4 5 0 6 2 1 1 7 5 0 5 6\n",
      " 4 1 5 5 1 3 1 8 9 3 3 5 9 5 8 1 4 6 8 9 0 6 7 6 1 9 6 2 7 2 9 9 0 7 8 4 3\n",
      " 5 8 7 5 1 4 0 2 3 7 6 6 0 6 2 2 3 4 3 3 3 0 1 5 7 6 4 2 1 6 6 0 4 7 5 0 8\n",
      " 0 3 0 3 8 0 0 0 3 2 9 6 6 2 3 0 1 0 3 1 7 5 3 9 3 6 1 8 3 1 4 0 5 9 2 2 1\n",
      " 4 9 7 3 4 1 4 6 5 6 6 9 6 2 4 4 9 1 4 8 6 4 3 8 3 0 0 5 7 4 4 1 5 8 8 5 2\n",
      " 3 0 2 0 7 1 7 7 6 7 0 8 4 8 9 0 1 8 9 2 1 9 0 4 2 1 5 7 9 0 6 0 6 4 5 3 2\n",
      " 4 1 7 4 5 6 5 6 8 0 9 3 4 9 6 8 0 4 6 0 4 0 9 2 3 1 0 2 8 6 8 8 8 1 7 8 2\n",
      " 4 9 4 2 6 8 1 8 6 2 4 1 2 0 8 6 2 3 5 0 9 6 1 2 9 7 0 9 5 1 4 9 3 1 1 6 4\n",
      " 6 4 1 7 6 0 7 6 0 9 9 4 8 8 8 7 0 6 9 5 6 9 7 6 9 7 6 8 2 5 9 1 9 8 6 3 6\n",
      " 5] [0 7 1 1 7 1 3 0 3 7 2 7 4 8 0 7 3 7 5 2 7 6 2 0 9 3 0 9 4 4 2 6 6 3 1 7 8\n",
      " 1 3 0 6 1 6 8 2 8 4 4 3 5 6 7 9 2 8 0 6 6 5 0 2 3 4 3 4 2 7 5 2 2 8 6 7 3\n",
      " 7 0 2 3 7 1 4 6 1 9 3 8 2 1 2 9 0 3 1 1 4 8 4 7 2 6 8 2 4 5 5 3 5 4 1 8 8\n",
      " 9 9 0 3 7 5 5 8 6 3 0 8 7 3 3 1 9 2 8 7 8 9 4 8 4 7 8 4 8 4 3 1 9 7 4 5 8\n",
      " 2 7 3 8 5 8 1 2 7 3 0 2 5 4 8 5 1 2 2 8 1 6 8 1 8 0 1 8 8 5 5 1 0 5 3 4 2\n",
      " 9 7 5 0 4 9 3 5 7 8 7 9 4 1 0 9 0 5 7 9 3 7 6 9 9 1 0 2 9 9 2 9 7 9 5 3 9\n",
      " 1 6 4 5 6 6 1 5 6 4 4 9 1 2 5 6 6 4 2 2 1 1 9 1 6 6 2 8 0 2 0 3 9 7 6 6 7\n",
      " 6 3 7 6 9 4 1 3 2 7 3 7 3 3 3 8 9 7 1 9 6 4 7 4 2 5 3 4 3 2 7 6 5 8 5 1 4\n",
      " 8 3 3 0 6 6 0 6 3 2 6 5 3 2 1 4 8 8 4 7 0 0 4 6 1 4 0 7 3 0 2 2 0 7 3 0 7\n",
      " 6 7 6 2 5 7 0 7 5 2 4 3 2 3 9 6 5 5 7 3 7 6 7 3 5 1 9 2 7 4 3 1 1 2 2 8 4\n",
      " 5 7 8 4 2 7 4 6 6 1 2 8 6 5 2 2 4 3 7 8 7 4 1 8 3 0 6 2 7 2 6 5 5 2 1 7 5\n",
      " 4 8 1 4 0 2 9 3 1 5 4 1 8 5 3 7 8 5 2 4 8 4 2 3 4 8 4 6 0 2 7 0 9 1 4 1 6\n",
      " 8 7 8 9 6 0 6 6 7 4 1 1 0 3 2 0 7 1 1 1 3 4 6 4 3 2 8 2 0 6 7 1 0 8 2 1 3\n",
      " 3 9 2 2 3 6 3 0 7 3 3 5 6 8 5 7 9 9 9 8 3 7 5 3 3 4 8 1 6 4 4 0 6 8 3 5 1\n",
      " 2 2 0 4 0 2 2 2 3 7 7 3 2 9 5 3 2 9 4 1 5 9 2 0 6 7 1 1 5 8 7 4 7 2 6 8 4\n",
      " 2 4 2 0 9 4 0 2 8 9 0 1 6 6 5 9 1 7 0 4 2 0 1 9 0 3 9 4 6 0 8 1 1 9 8 9 6\n",
      " 5 2 3 0 7 6 2 9 4 6 5 3 8 4 3 0 9 2 8 3 7 1 2 4 5 4 3 4 5 4 7 7 5 0 6 6 3\n",
      " 1 6 0 3 3 2 3 8 0 7 7 7 7 3 0 4 4 0 0 9 6 8 0 5 4 4 7 1 8 0 5 7 1 0 0 1 4\n",
      " 1 4 7 3 6 0 7 3 6 1 7 9 8 7 7 3 0 5 9 7 1 6 5 1 6 4 5 0 6 3 1 1 7 3 0 5 6\n",
      " 4 1 8 5 1 3 1 2 9 3 3 5 9 5 8 1 4 6 8 9 0 6 7 6 1 7 6 2 7 2 9 9 0 7 8 4 3\n",
      " 5 8 2 5 1 6 0 2 3 9 6 6 0 6 2 3 8 5 3 3 3 0 1 5 7 6 4 2 1 6 6 0 4 7 5 0 8\n",
      " 0 1 0 3 8 0 0 0 3 2 9 6 6 2 3 0 1 9 3 1 7 5 3 9 3 6 1 1 3 7 4 0 5 4 2 2 1\n",
      " 4 9 7 3 4 1 4 6 5 2 6 9 6 5 4 4 4 1 6 8 6 4 3 5 3 0 0 5 7 4 4 1 5 8 8 5 2\n",
      " 3 0 2 0 7 1 7 0 6 7 0 8 4 8 9 0 1 8 9 2 1 7 0 4 2 1 3 7 4 0 6 0 6 4 5 3 2\n",
      " 4 1 7 4 5 6 5 4 8 0 7 3 4 9 6 2 0 4 6 0 4 0 9 2 3 1 0 2 5 6 8 8 8 1 7 8 2\n",
      " 4 9 4 2 6 8 1 2 6 2 4 1 2 0 5 6 2 3 5 0 9 6 1 2 9 7 5 9 5 1 4 7 3 1 1 6 4\n",
      " 6 4 1 9 6 0 7 6 0 9 9 4 8 8 8 7 0 6 9 5 6 9 7 6 9 7 6 8 2 5 9 1 9 8 6 2 6\n",
      " 8]\n"
     ]
    },
    {
     "data": {
      "text/plain": [
       "0.86"
      ]
     },
     "execution_count": 19,
     "metadata": {},
     "output_type": "execute_result"
    }
   ],
   "source": [
    "dev_predictions = make_predictions(X_dev, W1, b1, W2, b2)\n",
    "get_accuracy(dev_predictions, Y_dev)"
   ]
  },
  {
   "cell_type": "markdown",
   "metadata": {},
   "source": [
    "[Source tutorial](https://www.youtube.com/watch?v=w8yWXqWQYmU)"
   ]
  }
 ],
 "metadata": {
  "kernelspec": {
   "display_name": ".venv",
   "language": "python",
   "name": "python3"
  },
  "language_info": {
   "codemirror_mode": {
    "name": "ipython",
    "version": 3
   },
   "file_extension": ".py",
   "mimetype": "text/x-python",
   "name": "python",
   "nbconvert_exporter": "python",
   "pygments_lexer": "ipython3",
   "version": "3.12.0"
  }
 },
 "nbformat": 4,
 "nbformat_minor": 2
}
