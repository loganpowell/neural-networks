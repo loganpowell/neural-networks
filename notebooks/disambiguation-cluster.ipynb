{
 "cells": [
  {
   "cell_type": "markdown",
   "metadata": {},
   "source": [
    "# KMeans Clustering with LLM-Augmented Labels\n",
    "\n",
    "Herein, we leverage `sci-kit learn`'s `KMeans` clustering algorithm to cluster embeddings\n",
    "generated from a neural network into `n` clusters. We then use the cluster assignments as\n",
    "bundles of similar text. Each of these bundles are passed to an LLM to generate a\n",
    "descriptive label for the cluster.\n",
    "\n",
    "## Pros and Cons of Approach\n",
    "\n",
    "| Pros                                                | Cons                                      |\n",
    "| --------------------------------------------------- | ----------------------------------------- |\n",
    "| No need for labeled data                            | LLMs are slow to generate labels          |\n",
    "| Can be used to generate labels for any type of data | Clustering is sensitive to initialization |\n"
   ]
  },
  {
   "cell_type": "code",
   "execution_count": 1,
   "metadata": {},
   "outputs": [
    {
     "name": "stdout",
     "output_type": "stream",
     "text": [
      "Number of results: 30\n"
     ]
    }
   ],
   "source": [
    "import dotenv\n",
    "import os\n",
    "import sys\n",
    "import json\n",
    "import re\n",
    "\n",
    "from datasets import load_dataset\n",
    "from sklearn.cluster import KMeans\n",
    "\n",
    "sys.path.append(\"../\")\n",
    "\n",
    "from fns import search_kb, get_embeddings\n",
    "\n",
    "dotenv.load_dotenv()\n",
    "\n",
    "# Load the dataset\n",
    "\n",
    "\n",
    "# query = \"How do you calculate tax in the state of PA?\"\n",
    "# query = \"What are the required user authentication parameters for O Series On-Premise User Management and Authentication\"\n",
    "query=\"What does the Includes Taxable Amount check box indicate?\"\n",
    "embeddings = get_embeddings(query)\n",
    "\n",
    "subset = search_kb(\n",
    "    query=query,\n",
    "    embeddings=embeddings,\n",
    "    k=30, # max = 50 without pagination\n",
    ")\n",
    "\n",
    "# print(subset)\n",
    "def xf_results(results, embeddings = False):\n",
    "    essential = []\n",
    "    for result in results:\n",
    "        metadata = json.loads(result[\"metadata\"])\n",
    "        # print(result)\n",
    "        prep = {\n",
    "            \"title\": result[\"title\"], \n",
    "            \"heading\": result[\"heading\"],\n",
    "            \"content\": re.sub(r\"\\xa0|\\t\", \" \", result[\"content\"].strip()), \n",
    "            \"url\": metadata[\"community_url\"],\n",
    "            \"product\": result[\"product\"],\n",
    "            \"score\": result[\"@search.score\"]\n",
    "        }\n",
    "        if embeddings:\n",
    "            prep[\"embeddings\"] = result[\"content_vector\"]\n",
    "        essential.append(prep)\n",
    "    return essential\n",
    "        \n",
    "essentials = xf_results(subset[\"value\"])\n",
    "# print the number of results\n",
    "print(f\"Number of results: {len(essentials)}\")\n",
    "\n",
    "# essentials[50:52]"
   ]
  },
  {
   "cell_type": "code",
   "execution_count": 2,
   "metadata": {},
   "outputs": [
    {
     "name": "stdout",
     "output_type": "stream",
     "text": [
      "\n",
      "Cluster 0\n",
      "- Include Basis Inclusions in Nontaxable Basis\n",
      "- Tax Include Round Up Tax\n",
      "- Limit Tax Inclusive To Extended Price\n",
      "- Single Jurisdiction VAT Tax Inclusive Optimized Path\n",
      "- Inclusion rules in O Series - Example 3\n",
      "- Tax Assist Field Descriptions - T - taxDate\n",
      "- Tax Assist function: INCL IMP (Included Imposition)\n",
      "- Tax-inclusive processing parameters in O Series\n",
      "- Tax Assist function: INCL IMP (Included Imposition) - Using the Included Impositions function in a rule\n",
      "- Tax-inclusive processing parameters in O Series - Single Jurisdiction VAT Tax Inclusive Optimized Path\n",
      "- Tax Assist Field Descriptions - T - taxOverride.overrideAsNonTaxable\n",
      "- Provide general information for an inclusion rule\n",
      "- Include Charged Tax in Allocated Line Item\n",
      "- O Series Transaction Tester > Amounts tab for line items\n",
      "\n",
      "Cluster 1\n",
      "- Distribute Taxes in Vertex Cloud - Results\n",
      "- Calculate Taxes in Vertex Cloud - Results\n",
      "- Distribute Taxes in Vertex Cloud - Totals\n",
      "- Reconcile by Invoice in Vertex Cloud - Using filters to reconcile by invoice\n",
      "- The Taxability Report in Vertex Cloud - Excluded report content\n",
      "- Calculate Taxes in Vertex Cloud - Totals\n",
      "- Distribute Taxes in Vertex Cloud - Totals\n",
      "- Calculate Taxes in Vertex Cloud - Results\n",
      "- Transaction Report - U.S. and Canada in Vertex Cloud - Contents of the transaction summary report\n",
      "- Transaction Detail extract in O Series Custom Reports - VRA - Notes: Part 10\n",
      "\n",
      "Cluster 2\n",
      "- Fields and Values on the Tax Assist Advanced selector - Included Impositions\n",
      "- Review the taxability of a communications service code - Field descriptions for the Taxability Analysis tab Part 2\n",
      "- Review the taxability of a commodity code in O Series - Drill down to see the jurisdiction of interest\n",
      "- Review the taxability of a commodity code in O Series - Drill down to see the jurisdiction of interest\n",
      "- Review the taxability of a communications service code - Drill down to the jurisdiction of interest\n",
      "\n",
      "Cluster 3\n",
      "- Setting up returns and filing reports - You may choose not to select this check box if the same person reviews, approves,\n",
      "\n",
      "tokens:  455\n"
     ]
    }
   ],
   "source": [
    "from sklearn.preprocessing import MinMaxScaler\n",
    "import tiktoken\n",
    "\n",
    "# use text-embedding-ada for tokenization\n",
    "tokenizer = tiktoken.encoding_for_model(\"text-embedding-ada-002\")\n",
    "\n",
    "# separate the embeddings from each dict in the list\n",
    "embeddings = [x[\"embeddings\"] for x in xf_results(subset[\"value\"], embeddings=True)]\n",
    "\n",
    "# scale the embeddings\n",
    "scaler = MinMaxScaler()\n",
    "embeddings = scaler.fit_transform(embeddings)\n",
    "\n",
    "clusters = 4\n",
    "\n",
    "# fit a kmeans model to the embeddings\n",
    "kmeans = KMeans(n_clusters=clusters, random_state=0).fit(embeddings)\n",
    "\n",
    "# add the cluster labels to the essentials\n",
    "for i, label in enumerate(kmeans.labels_):\n",
    "    essentials[i][\"cluster\"] = label\n",
    "\n",
    "# create a mapping of the cluster labels to the items in the cluster\n",
    "cluster_map = {}\n",
    "for i, label in enumerate(kmeans.labels_):\n",
    "    if label not in cluster_map:\n",
    "        cluster_map[label] = []\n",
    "    cluster_map[label].append(essentials[i])\n",
    "\n",
    "# sort the clusters by name\n",
    "cluster_map = dict(sorted(cluster_map.items()))\n",
    "\n",
    "def combine_title_heading(item):\n",
    "    return item[\"title\"] + \" - \" + item[\"heading\"] if item[\"heading\"] not in item[\"title\"] else item[\"title\"]\n",
    "\n",
    "prompt_cluster = \"\"\n",
    "#  for each cluster in the map, print the cluster label along with the first few titles in the cluster\n",
    "for label, cluster in cluster_map.items():\n",
    "    prompt_cluster += f\"\\nCluster {label}\\n\"\n",
    "    for item in cluster:\n",
    "        prompt_cluster += \"- \" + combine_title_heading(item) + \"\\n\"\n",
    "\n",
    "print(prompt_cluster)\n",
    "# print the total tokens and total items in the cluster\n",
    "print(\"tokens: \", len(tokenizer.encode(prompt_cluster)))\n"
   ]
  },
  {
   "cell_type": "code",
   "execution_count": 3,
   "metadata": {},
   "outputs": [
    {
     "name": "stdout",
     "output_type": "stream",
     "text": [
      "- 0: Tax Inclusion and Processing Parameters\n",
      "- 1: Tax Calculation and Distribution in Vertex Cloud\n",
      "- 2: Reviewing Taxability and Jurisdiction Analysis\n",
      "- 3: Setup of Returns and Filing Reports\n"
     ]
    }
   ],
   "source": [
    "from fns import messages_prompt\n",
    "\n",
    "# ask LLM to create a name for each cluster\n",
    "\n",
    "system_prompt = \"\"\"\n",
    "You are a helpful assistant. You will be provided with a list of clusters of similar titles.\n",
    "Please provide a name for each cluster based on the titles in the cluster.\n",
    "Make sure the names are descriptive, concise, and unique (non-overlapping).\n",
    "\n",
    "# Example input:\n",
    "\n",
    "Cluster 0:\n",
    "- Set up your organization’s taxpayers in O Series\n",
    "- Set up taxpayer registrations in O Series\n",
    "- Set up your organization’s taxpayers in O Series - The General tab\n",
    "\n",
    "Cluster 1:\n",
    "- Your taxpayer hierarchy in O Series - Enabling Adopt Parent Setup\n",
    "- Add a Single Mapping in Vertex Cloud - Steps for adding a mapping\n",
    "- Bulk upload of taxability drivers in O Series - Prepare the taxability driver upload file\n",
    "\n",
    "Cluster 2:\n",
    "- Set up taxpayer registrations in O Series - Add imposition registration details\n",
    "- United Kingdom electronic filing for Making Tax Digital (MTD, VAT 100) in VAT Compliance \n",
    "- Slovakia electronic filing for Intrastat - Arrivals/Dispatch in VAT Compliance \n",
    "\n",
    "# Example output:\n",
    "\n",
    "- 0: taxpayer registration or organization setup\n",
    "- 1: taxpayer hierarchy and taxability drivers\n",
    "- 2: VAT and foreign electronic filing\n",
    "\n",
    "\"\"\"\n",
    "\n",
    "results = messages_prompt([{\n",
    "    \"role\": \"system\",\n",
    "    \"content\": system_prompt\n",
    "}, {\n",
    "    \"role\": \"user\",\n",
    "    \"content\": prompt_cluster\n",
    "}])\n",
    "\n",
    "# print the results\n",
    "print(results)\n"
   ]
  },
  {
   "cell_type": "code",
   "execution_count": 4,
   "metadata": {},
   "outputs": [
    {
     "name": "stdout",
     "output_type": "stream",
     "text": [
      "Cluster names: [('0', 'Tax Inclusion and Processing Parameters'), ('1', 'Tax Calculation and Distribution in Vertex Cloud'), ('2', 'Reviewing Taxability and Jurisdiction Analysis'), ('3', 'Setup of Returns and Filing Reports')]\n"
     ]
    },
    {
     "data": {
      "text/plain": [
       "{'0': 'Tax Inclusion and Processing Parameters',\n",
       " '1': 'Tax Calculation and Distribution in Vertex Cloud',\n",
       " '2': 'Reviewing Taxability and Jurisdiction Analysis',\n",
       " '3': 'Setup of Returns and Filing Reports'}"
      ]
     },
     "execution_count": 4,
     "metadata": {},
     "output_type": "execute_result"
    }
   ],
   "source": [
    "import re\n",
    "\n",
    "# extract the cluster names from the llm output\n",
    "cluster_names = re.findall(r\"(\\d+): (.+)\", results)\n",
    "\n",
    "print(\"Cluster names:\", cluster_names)\n",
    "cluster_names = dict(cluster_names)\n",
    "\n",
    "cluster_names"
   ]
  },
  {
   "cell_type": "code",
   "execution_count": 5,
   "metadata": {},
   "outputs": [
    {
     "name": "stdout",
     "output_type": "stream",
     "text": [
      "\n",
      "Tax Inclusion and Processing Parameters\n",
      "- Include Basis Inclusions in Nontaxable Basis\n",
      "- Tax Include Round Up Tax\n",
      "- Limit Tax Inclusive To Extended Price\n",
      "\n",
      "Tax Calculation and Distribution in Vertex Cloud\n",
      "- Distribute Taxes in Vertex Cloud - Results\n",
      "- Calculate Taxes in Vertex Cloud - Results\n",
      "- Distribute Taxes in Vertex Cloud - Totals\n",
      "\n",
      "Reviewing Taxability and Jurisdiction Analysis\n",
      "- Fields and Values on the Tax Assist Advanced selector - Included Impositions\n",
      "- Review the taxability of a communications service code - Field descriptions for the Taxability Analysis tab Part 2\n",
      "- Review the taxability of a commodity code in O Series - Drill down to see the jurisdiction of interest\n",
      "\n",
      "Setup of Returns and Filing Reports\n",
      "- Setting up returns and filing reports - You may choose not to select this check box if the same person reviews, approves,\n"
     ]
    }
   ],
   "source": [
    "# rename the cluster keys to the cluster names\n",
    "clustered_map = {cluster_names[str(k)]: v for k, v in cluster_map.items()}\n",
    "\n",
    "# print the first 3 items in each cluster\n",
    "for label, cluster in clustered_map.items():\n",
    "    print(f\"\\n{label}\")\n",
    "    for item in cluster[:3]:\n",
    "        print(\"- \" + combine_title_heading(item))\n"
   ]
  },
  {
   "cell_type": "markdown",
   "metadata": {},
   "source": [
    "## If user down-votes the answer..."
   ]
  },
  {
   "cell_type": "code",
   "execution_count": 6,
   "metadata": {},
   "outputs": [
    {
     "name": "stdout",
     "output_type": "stream",
     "text": [
      "Sorry, which of the following topics are you interested in?\n",
      "1. Tax Inclusion and Processing Parameters\n",
      "2. Tax Calculation and Distribution in Vertex Cloud\n",
      "3. Reviewing Taxability and Jurisdiction Analysis\n",
      "4. Setup of Returns and Filing Reports\n",
      "5. something else\n"
     ]
    }
   ],
   "source": [
    "# takes the clustered_map and returns a prompt to the user for follow up questions\n",
    "def follow_up_prompt(clustered_map):\n",
    "    prompt = \"Sorry, which of the following topics are you interested in?\\n\"\n",
    "    index = 0\n",
    "    for label, cluster in clustered_map.items():\n",
    "        label = label.replace(\"'\", \"\")\n",
    "        index += 1\n",
    "        prompt += f\"{index}. {label}\\n\"\n",
    "    prompt += f\"{index + 1}. something else\"\n",
    "    return prompt\n",
    "\n",
    "# print the follow up prompt\n",
    "print(follow_up_prompt(clustered_map))"
   ]
  },
  {
   "cell_type": "code",
   "execution_count": 7,
   "metadata": {},
   "outputs": [],
   "source": [
    "# Putting it all together\n",
    "\n",
    "# function takes the user query and returns the follow up prompt\n",
    "def get_follow_up(query, k = 50, clusters=3):\n",
    "    \"\"\"\n",
    "    Takes the user query and returns a dict with the following keys:\n",
    "    - top_3: the top 3 results from the vector search\n",
    "    - follow_up: the follow up prompt\n",
    "    \"\"\"\n",
    "    embeddings = get_embeddings(query)\n",
    "\n",
    "    subset = search_kb(\n",
    "        query=query,\n",
    "        embeddings=embeddings,\n",
    "        k=k,\n",
    "    )[\"value\"]\n",
    "\n",
    "    essentials = xf_results(subset)\n",
    "    embeddings = [x[\"embeddings\"] for x in xf_results(subset, embeddings=True)]\n",
    "    scaler = MinMaxScaler()\n",
    "\n",
    "    embeddings = scaler.fit_transform(embeddings)\n",
    "    kmeans = KMeans(n_clusters=clusters, random_state=0).fit(embeddings)\n",
    "\n",
    "    for i, label in enumerate(kmeans.labels_):\n",
    "        essentials[i][\"cluster\"] = label\n",
    "    cluster_map = {}\n",
    "    for i, label in enumerate(kmeans.labels_):\n",
    "        if label not in cluster_map:\n",
    "            cluster_map[label] = []\n",
    "        cluster_map[label].append(essentials[i])\n",
    "    cluster_map = dict(sorted(cluster_map.items()))\n",
    "\n",
    "    prompt_cluster = \"\"\n",
    "    for label, cluster in cluster_map.items():\n",
    "        prompt_cluster += f\"\\nCluster {label}\\n\"\n",
    "        for item in cluster:\n",
    "            prompt_cluster += \"- \" + combine_title_heading(item) + \"\\n\"\n",
    "            \n",
    "    system_prompt = \"\"\"\n",
    "    You are a helpful assistant. You will be provided with a user's query and a\n",
    "    list of clusters of similar titles. Please provide a name for each cluster\n",
    "    based on the titles in the cluster as they relate to the query. Make sure\n",
    "    the names are comprehensive, elaborative and unique (non-overlapping).\n",
    "    \"\"\"\n",
    "    results = messages_prompt([{\n",
    "        \"role\": \"system\",\n",
    "        \"content\": system_prompt\n",
    "    }, {\n",
    "        \"role\": \"user\",\n",
    "        \"content\": \"query:\\n\\n\" + query + \"clusters:\\n\\n\" + prompt_cluster\n",
    "    }])\n",
    "\n",
    "    cluster_names = re.findall(r\"(\\d+): (.+)\", results)\n",
    "    cluster_names = dict(cluster_names)\n",
    "    clustered_map = {cluster_names[str(k)]: v for k, v in cluster_map.items()}\n",
    "    #print(clustered_map)\n",
    "    return {\n",
    "        \"top_3\": essentials[:3],\n",
    "        \"follow_up\": follow_up_prompt(clustered_map)\n",
    "    }\n",
    "\n"
   ]
  },
  {
   "cell_type": "code",
   "execution_count": 8,
   "metadata": {},
   "outputs": [
    {
     "name": "stdout",
     "output_type": "stream",
     "text": [
      "Query:\n",
      " When I am adding a user in O Series, how do I get support? \n",
      "\n",
      "Top results:\n",
      "- Set up users in O Series\n"
     ]
    },
    {
     "data": {
      "text/markdown": [
       "Set up users in O Series  When a member of your organization needs Vertex® O Series access, a Master Administrator or Partition System Administrator - depending on the partitions in which this user needs to work - can set up a user via the Users feature.  Note: This feature is available in the O Series On-Premise and O Series On-Demand deployments only. It is not available in O Series Cloud. For information about setting up users in O Series Cloud, go here.  To set up a user:  1. Navigate to System > Security > Users.  The list of all users is displayed. 2. Complete one of these steps:   * To create a new user, click Add a User to display the Add User page.  * To edit an existing user, click Edit in the Actions column to display the Edit User page. 3. Complete the fields according to \"Field descriptions\" below. 4. Click Save User when you are satisfied with your settings for this user.  To view an existing user, click View in the Actions column to display the View User page."
      ],
      "text/plain": [
       "<IPython.core.display.Markdown object>"
      ]
     },
     "metadata": {},
     "output_type": "display_data"
    },
    {
     "name": "stdout",
     "output_type": "stream",
     "text": [
      "- Users in O Series\n"
     ]
    },
    {
     "data": {
      "text/markdown": [
       "Users in O Series  There is one thing that every member of your organization needs to take advantage  of Vertex® O Series On-Premise and On-Demand features - to be an O Series user. Users are the people in your organization who need access to O Series functionality.  Here's what you can do with the Users feature:  * Create O Series users. * Assign them a role or roles to define their range of access to specific O Series data and functionality. * Assign them to a partition or partitions. * Change user names. * Reset and change passwords. * Deactivate users. * Search for users by Partition, User Name, or E-Mail.  Note: This feature is available in the O Series On-Premise and O Series On-Demand deployments only. It is not available in O Series Cloud. For information about setting up users in O Series Cloud, go here.     Who can set up a user?  * A Master Administrator can manage users who have access to all partitions. * A Partition System Administrator is responsible for the users and data in a given partition. This person manages users whose access is limited to a given partition."
      ],
      "text/plain": [
       "<IPython.core.display.Markdown object>"
      ]
     },
     "metadata": {},
     "output_type": "display_data"
    },
    {
     "name": "stdout",
     "output_type": "stream",
     "text": [
      "- Enable Enterprise Single Sign-On (SSO) in O Series On-Demand\n"
     ]
    },
    {
     "data": {
      "text/markdown": [
       "Enable Enterprise Single Sign-On (SSO) in O Series On-Demand  Single Sign-On (SSO) strengthens system security and makes users' lives easier by  reducing password fatigue. SSO for Vertex Vertex® O Series On-Demand (O Series) is now available upon request from Customer Support.  Note: The process for implementing SSO requires a number of steps to be completed by Vertex  Consulting. For those who prefer it, a self-service option is planned for a later  date that will not require assistance from Vertex Consulting.  Here is the process:  1. Submit a Customer Support request to have SSO enabled on your On-Demand instance. 2. Receive confirmation that your request has been forwarded to Vertex Consulting and  has been placed in the implementation queue. 3. Vertex Consulting begins work when your request reaches the top of the queue. They  will assist you in setting up multi-partition user functionality and guide you through  user consolidation and conversion of user names.     Related articles  User consolidation"
      ],
      "text/plain": [
       "<IPython.core.display.Markdown object>"
      ]
     },
     "metadata": {},
     "output_type": "display_data"
    },
    {
     "name": "stdout",
     "output_type": "stream",
     "text": [
      "\n",
      "Follow up:\n",
      "Sorry, which of the following topics are you interested in?\n",
      "1. User and Role Management in O Series\n",
      "2. Installation and Configuration of O Series\n",
      "3. User Credentials and Settings in O Series\n",
      "4. Support and Troubleshooting for O Series\n",
      "5. something else\n"
     ]
    }
   ],
   "source": [
    "from IPython.display import display, Markdown as md\n",
    "\n",
    "\n",
    "cause_effect_map = {\n",
    "    \"When I am adding a user in O Series, how do I get support?\":                                                    \n",
    "        \"user support\",\n",
    "    \"What products does Vertex have?\":                                                                               \n",
    "        \"products\",\n",
    "    \"How do I add a company?\":                                                                                       \n",
    "        \"trigger follow-up with the user for clarification\",\n",
    "    \"How do I play pickleball?\":                                                                                     \n",
    "        \"no results\",\n",
    "    \"Where do you set up regional preferences in O Series?\":                                                         \n",
    "        \"regional preferences\",\n",
    "    \"A new district tax has become effective in TX, will my setup pick up the new tax?\":                             \n",
    "        \"verify the config\",\n",
    "    \"The business just opened an office in London, how do I get the system to calc tax there?\":                      \n",
    "        \"explain how to setup new geographic registration and explain that more detailed configuration is possible\",\n",
    "    \"I have a customer indicating that the calculation result is incorrect. How do I verify the calculation result?\":\n",
    "        \"using transaction tester to simulate the calculation and see the results and identify follow-up options to explore configuration\",\n",
    "    \"What are the options to setup product taxability if I cannot find it in the Vertex taxability content?\":        \n",
    "        \"creating taxability categories and creating tax rules\"\n",
    "}\n",
    "\n",
    "# get the 2nd query\n",
    "query = list(cause_effect_map.keys())[0]\n",
    "expect = cause_effect_map[query]\n",
    "\n",
    "response = get_follow_up(query, k=100, clusters=4)\n",
    "\n",
    "# print the title + headings for the top 3 results\n",
    "print(\"Query:\\n\", query, \"\\n\")\n",
    "print(\"Top results:\")\n",
    "for idx, item in enumerate(response[\"top_3\"]):\n",
    "    print(\"-\", combine_title_heading(item).replace('\"', \"\"))\n",
    "    markdown = md(item[\"content\"])\n",
    "    display(markdown)\n",
    "\n",
    "# pretty print the results\n",
    "print(f\"\\nFollow up:\\n{response['follow_up']}\")"
   ]
  },
  {
   "cell_type": "code",
   "execution_count": 9,
   "metadata": {},
   "outputs": [
    {
     "name": "stdout",
     "output_type": "stream",
     "text": [
      "user support\n",
      "other stuff\n"
     ]
    }
   ],
   "source": [
    "def strip_first_line(s):\n",
    "    \"\"\"\n",
    "    takes a string that wraps over multiple lines and removes the first line\n",
    "    \"\"\"\n",
    "    return s[s.find(\"\\n\")+1:]\n",
    "\n",
    "test_query = \"When I am adding a user in O Series, how do I get support?\\nuser support\\nother stuff\"\n",
    "test_query = strip_first_line(test_query)\n",
    "print(test_query)"
   ]
  },
  {
   "cell_type": "code",
   "execution_count": 10,
   "metadata": {},
   "outputs": [
    {
     "name": "stdout",
     "output_type": "stream",
     "text": [
      "Query:\n",
      "When I am adding a user in O Series, how do I get support?\n",
      "Support and Troubleshooting for O Series\n",
      "\n",
      "Top results:\n",
      "- Set up users in O Series\n"
     ]
    },
    {
     "data": {
      "text/markdown": [
       "Set up users in O Series  When a member of your organization needs Vertex® O Series access, a Master Administrator or Partition System Administrator - depending on the partitions in which this user needs to work - can set up a user via the Users feature.  Note: This feature is available in the O Series On-Premise and O Series On-Demand deployments only. It is not available in O Series Cloud. For information about setting up users in O Series Cloud, go here.  To set up a user:  1. Navigate to System > Security > Users.  The list of all users is displayed. 2. Complete one of these steps:   * To create a new user, click Add a User to display the Add User page.  * To edit an existing user, click Edit in the Actions column to display the Edit User page. 3. Complete the fields according to \"Field descriptions\" below. 4. Click Save User when you are satisfied with your settings for this user.  To view an existing user, click View in the Actions column to display the View User page."
      ],
      "text/plain": [
       "<IPython.core.display.Markdown object>"
      ]
     },
     "metadata": {},
     "output_type": "display_data"
    },
    {
     "name": "stdout",
     "output_type": "stream",
     "text": [
      "- Users in O Series\n"
     ]
    },
    {
     "data": {
      "text/markdown": [
       "Users in O Series  There is one thing that every member of your organization needs to take advantage  of Vertex® O Series On-Premise and On-Demand features - to be an O Series user. Users are the people in your organization who need access to O Series functionality.  Here's what you can do with the Users feature:  * Create O Series users. * Assign them a role or roles to define their range of access to specific O Series data and functionality. * Assign them to a partition or partitions. * Change user names. * Reset and change passwords. * Deactivate users. * Search for users by Partition, User Name, or E-Mail.  Note: This feature is available in the O Series On-Premise and O Series On-Demand deployments only. It is not available in O Series Cloud. For information about setting up users in O Series Cloud, go here.     Who can set up a user?  * A Master Administrator can manage users who have access to all partitions. * A Partition System Administrator is responsible for the users and data in a given partition. This person manages users whose access is limited to a given partition."
      ],
      "text/plain": [
       "<IPython.core.display.Markdown object>"
      ]
     },
     "metadata": {},
     "output_type": "display_data"
    },
    {
     "name": "stdout",
     "output_type": "stream",
     "text": [
      "- Discuss your O Series On-Demand configuration with Vertex - Open a case\n"
     ]
    },
    {
     "data": {
      "text/markdown": [
       "Open a case  When you want to change any O Series configuration parameters that are not available in the O Series user interface, your Tech Lead or backup Tech Lead must open a case with Vertex Customer  Support.  If other members of your implementation team have questions that are unrelated to  O Series configuration, they can also open a case.   Ways to open a case:  * Open the case via the Vertex Community on the web (https://community.vertexinc.com). * Call Vertex Customer Support at 800.281.1900.     Related articles  Analyze your technical requirements for O Series On-Demand  Analyze configuration parameter settings for O Series On-Demand  Overview of O Series On-Demand implementation"
      ],
      "text/plain": [
       "<IPython.core.display.Markdown object>"
      ]
     },
     "metadata": {},
     "output_type": "display_data"
    },
    {
     "name": "stdout",
     "output_type": "stream",
     "text": [
      "\n",
      "Follow up:\n",
      "Sorry, which of the following topics are you interested in?\n",
      "1. Vertex Support for O Series Configuration\n",
      "2. User Setup in O Series\n",
      "3. Initial Login Guidance for O Series On-Premise\n",
      "4. something else\n"
     ]
    }
   ],
   "source": [
    "\n",
    "def get_name_from_choice(choice, follow_up_prompt):\n",
    "    \"\"\"\n",
    "    Takes the follow up prompt and the user's choice and returns the name of the cluster\n",
    "    \"\"\"\n",
    "    items = re.findall(r\"(\\d+). (.+)\", follow_up_prompt)\n",
    "    #print(\"items\", items)\n",
    "    items = dict(items)\n",
    "    return items[str(choice)] # \"something else\": escape hatch to different tool?\n",
    "\n",
    "# test the function\n",
    "choice = 4\n",
    "chosen = get_name_from_choice(choice, response[\"follow_up\"]).replace('\"', '')\n",
    "\n",
    "# add chosen to the query and get the results\n",
    "updated_query = query + \"\\n\" + chosen if chosen != \"something else\" else strip_first_line(query)\n",
    "response2 = get_follow_up(updated_query, 4)\n",
    "\n",
    "# print the title + headings for the top 3 results\n",
    "print(\"Query:\\n\" + updated_query + \"\\n\")\n",
    "print(\"Top results:\")\n",
    "\n",
    "for idx, item in enumerate(response2[\"top_3\"]):\n",
    "    print(\"-\", combine_title_heading(item))\n",
    "    markdown = md(item[\"content\"])\n",
    "    display(markdown)\n",
    "\n",
    "# pretty print the results\n",
    "print(f\"\\nFollow up:\\n{response2['follow_up']}\")\n",
    "\n"
   ]
  }
 ],
 "metadata": {
  "kernelspec": {
   "display_name": ".venv",
   "language": "python",
   "name": "python3"
  },
  "language_info": {
   "codemirror_mode": {
    "name": "ipython",
    "version": 3
   },
   "file_extension": ".py",
   "mimetype": "text/x-python",
   "name": "python",
   "nbconvert_exporter": "python",
   "pygments_lexer": "ipython3",
   "version": "3.12.0"
  }
 },
 "nbformat": 4,
 "nbformat_minor": 2
}
