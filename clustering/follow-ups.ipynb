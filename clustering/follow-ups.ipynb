{
 "cells": [
  {
   "cell_type": "markdown",
   "metadata": {},
   "source": [
    "# KMeans Clustering with LLM-Augmented Labels\n",
    "\n",
    "Herein, we leverage `sci-kit learn`'s `KMeans` clustering algorithm to cluster embeddings\n",
    "generated from a neural network into `n` clusters. We then use the cluster assignments as\n",
    "bundles of similar text. Each of these bundles are passed to an LLM to generate a\n",
    "descriptive label for the cluster.\n",
    "\n",
    "## Pros and Cons of Approach\n",
    "\n",
    "| Pros                                                | Cons                                      |\n",
    "| --------------------------------------------------- | ----------------------------------------- |\n",
    "| No need for labeled data                            | LLMs are slow to generate labels          |\n",
    "| Can be used to generate labels for any type of data | Clustering is sensitive to initialization |\n"
   ]
  },
  {
   "cell_type": "code",
   "execution_count": 4,
   "metadata": {},
   "outputs": [
    {
     "name": "stdout",
     "output_type": "stream",
     "text": [
      "batch: 50\n",
      "url: https://copilot-dev-primary-search-service-eastus2.search.windows.net/indexes/2023-12-29/docs/search?api-version=2023-11-01\n",
      "batch: 50\n",
      "url: https://copilot-dev-primary-search-service-eastus2.search.windows.net/indexes/2023-12-29/docs/search?api-version=2023-11-01&skip=50\n",
      "batch: 20\n",
      "url: https://copilot-dev-primary-search-service-eastus2.search.windows.net/indexes/2023-12-29/docs/search?api-version=2023-11-01&skip=50\n",
      "Number of results: 120\n"
     ]
    },
    {
     "data": {
      "text/plain": [
       "[{'title': 'Look up standard tax rates in O Series',\n",
       "  'heading': 'Look up tax rates by jurisdiction',\n",
       "  'content': 'Look up tax rates by jurisdiction  Searching by jurisdiction returns only the rates for the selected jurisdictions. To  look up rates for a jurisdiction:  1. Navigate to Tools > Rate Lookup > By Jurisdiction. 2. Click next to the Jurisdictions field to display the Select Jurisdictions dialog box and select jurisdictions for  which you want to see rates. 3. To refine your search, click Advanced Search. See \"Advanced Search criteria\" in this article for details. 4. Click Search. All tax-rate data that O Series found for the criteria displays.  This example requests the tax rates for both Pennsylvania and Philadelphia and is  useful for seeing the components of the total 8% sales tax that is charged for purchases  in Philadelphia.     Look up tax rates by Tax Area ID  Searching by tax area returns only the rates for the selected Tax Area ID.  1. Navigate to Tools > Rate Lookup > By Tax Area. 2. Identify the Tax Area ID in one of these ways:   * Enter the ID in the Tax Area ID field.  * Click next to the Tax Area ID field to display the Select Tax Area ID dialog box, where you can enter either the   Tax Area ID or as much jurisdiction information as possible. Click Search, select the radio button for the Tax Area ID of interest, and click Select. 3. To refine your search, click Advanced Search. See \"Advanced Search criteria\" in this article for details. 4. Click Search. All tax-rate data that O Series found for the criteria displays.  This example shows the tax rate for Tax Area ID 391013000, which corresponds to Philadelphia.  If you already know a Tax Area ID, this method of rate lookup is the most efficient.',\n",
       "  'url': 'https://community.vertexinc.com/s/document-item?bundleId=COSTools&topicId=RateLookup.html&_LANG=enus',\n",
       "  'product': ['O Series Cloud', 'O Series On Demand', 'O Series On Premise'],\n",
       "  'score': 0.86309415},\n",
       " {'title': 'Vertex Payroll Tax forms for Pennsylvania Local Services Tax',\n",
       "  'heading': 'Vertex Payroll Tax forms for Pennsylvania Local Services Tax',\n",
       "  'content': \"Vertex Payroll Tax forms for Pennsylvania Local Services Tax  Payroll Tax calculates Pennsylvania Local Services Tax (LST) whether or not you use the form.  However, the form provides greater precision in the calculation, such as allowing  catch-up withholding if needed.  Read about the Pennsylvania LST.     PA\\\\_LST forms  Pass in these multi-value forms to:  * Set the primary Pennsylvania work location if an employee works in multiple Pennsylvania  locations. * Calculate the prorated employee deduction for the local services tax (LST) in the  Pennsylvania municipalities where your company is located.  You can use these forms even if you are claiming one of the valid exemptions.      Calculation  The PA\\\\_LST forms use the following basic calculation to determine the deduction per  pay period:   Maximum annual Local Services Tax amount   ÷ Number of pay periods in a year   \\\\_\\\\_\\\\_\\\\_\\\\_\\\\_\\\\_\\\\_\\\\_\\\\_\\\\_\\\\_\\\\_\\\\_\\\\_\\\\_\\\\_\\\\_\\\\_\\\\_\\\\_\\\\_\\\\_\\\\_\\\\_\\\\_\\\\_\\\\_\\\\_\\\\_\\\\_\\\\_\\\\_\\\\_\\\\_\\\\_\\\\_\\\\_\\\\_  Round the resulting tax amount value down to the nearest penny      Use a form to set a primary work location for period-to-date tax amounts  If the period-to-date tax amount is less than the per-pay period prorated amount for  the local jurisdiction, Payroll Tax deducts the remainder of that amount during the current pay period (except as constrained  by local and statewide limits).  First, Payroll Tax checks for a combination of GeoCode and taxingLocationType with a period-to-date  amount.  If none is found, Payroll Tax uses:  * The primary work location set with PA\\\\_LST.PRIMARYWORKLOCATION.  Or  * If there is no form, Payroll Tax uses the primary work location provided in the paycheck request.      Use a form to enable catch-up withholding  The Pennsylvania Local Services Tax is subject to low-income and military exemptions.  If you use the PA\\\\_LST exemption forms, Payroll Tax factors the exemptions into the calculation and tracks the employee's year-to-date  wages.  Using the forms facilitates catch-up withholding if the wages for a previously exempt  employee exceed the low-income limit.\",\n",
       "  'url': 'https://community.vertexinc.com/s/document-item?bundleId=VertexPayrollTaxFormsGuide&topicId=VertexPayrollTaxformsforPennsylvaniaLocalServicesTax.html&_LANG=enus',\n",
       "  'product': ['Payroll Tax'],\n",
       "  'score': 0.85847723},\n",
       " {'title': 'Vertex Payroll Tax forms for Pennsylvania Local Services Tax',\n",
       "  'heading': 'PA\\\\_LST.STATE\\\\_YTD\\\\_PREV',\n",
       "  'content': 'PA\\\\_LST.STATE\\\\_YTD\\\\_PREV  Pass in a dollar amount representing the statewide taxes paid at a previous employer.  You must supply this field if you do not supply paycheck requests that have year-to-date tax  amounts from past pay periods, but no gross pay for the current pay period. (The information  is needed for Payroll Tax to confirm that the statewide $52 tax limit is not exceeded.)   You can omit this form if the employee did not work for any other Pennsylvania employer  in the calendar year.      Effect on accumulation  Because this field has statewide applicability, if this form is present and populated  on any location with a Pennsylvania GeoCode and a Tax ID of 536, Payroll Tax uses this value as the statewide year-to-date total from previous employers and does  not accumulate tax amounts from other locations.      Conflicting values  If two or more work locations with PA\\\\_LST.STATE\\\\_YTD have conflicting values, calculation  ends.      PA\\\\_LST.LI\\\\_EXEMPTEDPAYPERIOD  This value displays after tax is calculated:  * 0 - A low-income exemption is not valid for this pay period * 1 - A low-income exemption is valid for this pay period  Add this return value to the year-to-date total passed in through the LI\\\\_EXEMPTEDPAYPERIODSYTD  field, in case a catch-up calculation is needed.      Change in pay period frequency  Vertex recommends that you adjust the value of PA\\\\_LST.LI\\\\_EXEMPTEDPAYPERIODSYTD to  base the catch-up calculation on a value that reflects the new pay frequency.',\n",
       "  'url': 'https://community.vertexinc.com/s/document-item?bundleId=VertexPayrollTaxFormsGuide&topicId=VertexPayrollTaxformsforPennsylvaniaLocalServicesTax.html&_LANG=enus',\n",
       "  'product': ['Payroll Tax'],\n",
       "  'score': 0.856731}]"
      ]
     },
     "execution_count": 4,
     "metadata": {},
     "output_type": "execute_result"
    }
   ],
   "source": [
    "import dotenv\n",
    "import os\n",
    "import sys\n",
    "import json\n",
    "import re\n",
    "\n",
    "from datasets import load_dataset\n",
    "from sklearn.cluster import KMeans\n",
    "\n",
    "sys.path.append(\"../\")\n",
    "\n",
    "from fns import vector_search, get_embeddings\n",
    "\n",
    "dotenv.load_dotenv()\n",
    "\n",
    "# Load the dataset\n",
    "\n",
    "\n",
    "query = \"How do you calculate tax in the state of PA?\"\n",
    "embeddings = get_embeddings(query)[\"data\"][0][\"embedding\"]\n",
    "\n",
    "subset = vector_search(\n",
    "    embeddings,\n",
    "    k=120, # max = 50 without pagination\n",
    ")\n",
    "\n",
    "def xf_results(results, embeddings = False):\n",
    "    essential = []\n",
    "    for result in results:\n",
    "        prep = {\n",
    "            \"title\": result[\"title\"], \n",
    "            \"heading\": result[\"heading\"],\n",
    "            \"content\": re.sub(r\"\\xa0|\\t\", \" \", result[\"content\"].strip()), \n",
    "            \"url\": json.loads(result[\"metadata\"])[\"community_url\"],\n",
    "            \"product\": result[\"product\"],\n",
    "            \"score\": result[\"@search.score\"]\n",
    "        }\n",
    "        if embeddings:\n",
    "            prep[\"embeddings\"] = result[\"content_vector\"]\n",
    "        essential.append(prep)\n",
    "    return essential\n",
    "        \n",
    "essentials = xf_results(subset)\n",
    "# print the number of results\n",
    "print(f\"Number of results: {len(essentials)}\")\n",
    "\n",
    "essentials[50:53]"
   ]
  },
  {
   "cell_type": "code",
   "execution_count": 5,
   "metadata": {},
   "outputs": [
    {
     "name": "stdout",
     "output_type": "stream",
     "text": [
      "\n",
      "Cluster 0\n",
      "- Case study: Determine tax payment options for Vertex O Series for Leasing - Determining stream payment taxability\n",
      "- Case study: Determine tax payment options for Vertex O Series for Leasing - Determining upfront payment taxability\n",
      "- Purchase Order events in O Series - Example of a purchase order transaction\n",
      "- Three-Tier Tax Structure in Vertex Cloud\n",
      "- Maximum Taxes in Vertex Cloud - Tennessee\n",
      "- Case study: Determine tax payment options for Vertex O Series for Leasing - Determining stream payment taxability\n",
      "- Case study: Determine tax payment options for Vertex O Series for Leasing - Determining upfront payment taxability\n",
      "- Purchase Order events in O Series - Example of a purchase order transaction\n",
      "- Three-Tier Tax Structure in Vertex Cloud\n",
      "- Maximum Taxes in Vertex Cloud - Tennessee\n",
      "- Case study: Determine tax payment options for Vertex O Series for Leasing - Determining stream payment taxability\n",
      "\n",
      "Cluster 1\n",
      "- Vertex Payroll Tax forms for Pennsylvania Local Services Tax\n",
      "- Vertex Payroll Tax forms for Pennsylvania Local Services Tax - PA\\_LST.STATE\\_YTD\\_PREV\n",
      "- Vertex Payroll Tax forms for Pennsylvania Local Services Tax - Use the forms for employees with multiple work locations\n",
      "- Vertex Payroll Tax Pennsylvania Local Services Tax\n",
      "- Vertex Payroll Tax forms for Pennsylvania Local Services Tax - PA\\_LST.LOWINCOMEEXEMPTION\n",
      "- Vertex Payroll Tax forms for Pennsylvania Local Services Tax - PA\\_LST.WORK\\_SCHOOL\\_DISTRICT\n",
      "- Vertex® Payroll Tax Release Notes - Pennsylvania Local Services Tax enhancement – Municipalities with multiple amounts\n",
      "- Vertex Payroll Tax Pennsylvania Local Services Tax - Cloud Payroll Tax LST treatment\n",
      "- Vertex Payroll Tax forms for Pennsylvania Local Services Tax\n",
      "- Vertex Payroll Tax forms for Pennsylvania Local Services Tax - PA\\_LST.STATE\\_YTD\\_PREV\n",
      "- Vertex Payroll Tax forms for Pennsylvania Local Services Tax - Use the forms for employees with multiple work locations\n",
      "- Vertex Payroll Tax Pennsylvania Local Services Tax\n",
      "- Vertex Payroll Tax forms for Pennsylvania Local Services Tax - PA\\_LST.LOWINCOMEEXEMPTION\n",
      "- Vertex Payroll Tax forms for Pennsylvania Local Services Tax - PA\\_LST.WORK\\_SCHOOL\\_DISTRICT\n",
      "- Vertex® Payroll Tax Release Notes - Pennsylvania Local Services Tax enhancement – Municipalities with multiple amounts\n",
      "- Vertex Payroll Tax Pennsylvania Local Services Tax - Cloud Payroll Tax LST treatment\n",
      "- Vertex Payroll Tax forms for Pennsylvania Local Services Tax\n",
      "- Vertex Payroll Tax forms for Pennsylvania Local Services Tax - PA\\_LST.STATE\\_YTD\\_PREV\n",
      "- Vertex Payroll Tax forms for Pennsylvania Local Services Tax - Use the forms for employees with multiple work locations\n",
      "- Vertex Payroll Tax Pennsylvania Local Services Tax\n",
      "- Vertex Payroll Tax forms for Pennsylvania Local Services Tax - PA\\_LST.LOWINCOMEEXEMPTION\n",
      "- Vertex Payroll Tax forms for Pennsylvania Local Services Tax - PA\\_LST.WORK\\_SCHOOL\\_DISTRICT\n",
      "- Vertex® Payroll Tax Release Notes - Pennsylvania Local Services Tax enhancement – Municipalities with multiple amounts\n",
      "\n",
      "Cluster 2\n",
      "- Vertex Payroll Tax Forms for Pennsylvania\n",
      "- Vertex Payroll Tax form for Pennsylvania-Maryland reciprocal exception\n",
      "- Pennsylvania State Specifics\n",
      "- Vertex Payroll Tax W-4 calculation process\n",
      "- Vertex® Payroll Tax Release Notes - November 2021 changes\n",
      "- Vertex® Payroll Tax Release Notes - Change to the Maine Withholding Standard Deduction Formula\n",
      "- Vertex Payroll Tax form for Maryland state withholding\n",
      "- Vertex® Payroll Tax Release Notes - Notes:\n",
      "- Vertex® Payroll Tax Release Notes - Change to the Maryland tiered county tables\n",
      "- Vertex® Payroll Tax Release Notes - Note: Maryland law does not permit the use of a rate of less than 4.75% to be used for withholding\n",
      "- Vertex Payroll Tax Forms for Colorado\n",
      "- Vertex Payroll Tax calculation methods\n",
      "- Vertex Payroll Tax Forms for Maryland\n",
      "- Vertex Payroll Tax Forms for Puerto Rico\n",
      "- Pennsylvania Exemption Reasons in Vertex Cloud\n",
      "- Vertex Payroll Tax Forms for Pennsylvania\n",
      "- Vertex Payroll Tax form for Pennsylvania-Maryland reciprocal exception\n",
      "- Pennsylvania State Specifics\n",
      "- Vertex Payroll Tax W-4 calculation process\n",
      "- Vertex® Payroll Tax Release Notes - November 2021 changes\n",
      "- Vertex® Payroll Tax Release Notes - Change to the Maine Withholding Standard Deduction Formula\n",
      "- Vertex Payroll Tax form for Maryland state withholding\n",
      "- Vertex® Payroll Tax Release Notes - Notes:\n",
      "- Vertex® Payroll Tax Release Notes - Change to the Maryland tiered county tables\n",
      "- Vertex® Payroll Tax Release Notes - Note: Maryland law does not permit the use of a rate of less than 4.75% to be used for withholding\n",
      "- Vertex Payroll Tax Forms for Colorado\n",
      "- Vertex Payroll Tax calculation methods\n",
      "- Vertex Payroll Tax Forms for Maryland\n",
      "- Vertex Payroll Tax Forms for Puerto Rico\n",
      "- Pennsylvania Exemption Reasons in Vertex Cloud\n",
      "- Vertex Payroll Tax Forms for Pennsylvania\n",
      "- Vertex Payroll Tax form for Pennsylvania-Maryland reciprocal exception\n",
      "- Pennsylvania State Specifics\n",
      "- Vertex Payroll Tax W-4 calculation process\n",
      "- Vertex® Payroll Tax Release Notes - November 2021 changes\n",
      "- Vertex® Payroll Tax Release Notes - Change to the Maine Withholding Standard Deduction Formula\n",
      "- Vertex Payroll Tax form for Maryland state withholding\n",
      "- Vertex® Payroll Tax Release Notes - Notes:\n",
      "\n",
      "Cluster 3\n",
      "- Look up standard tax rates in O Series - Look up tax rates by jurisdiction\n",
      "- Set up O Series Hospitality for multi-night lodging\n",
      "- Create an imposition and calculation rule for the franchise fee - Create a user-defined calculation tax rule for your franchise fee\n",
      "- Purchase Order events in O Series - Example of a purchase order transaction\n",
      "- Enter Out-of-State Sales in Vertex Cloud - Entering out-of-state sales in Vertex Cloud\n",
      "- Get Tax Rates for Uploaded Addresses in Vertex Cloud - Getting tax rates for uploaded addresses\n",
      "- View bracket schedules for O Series tax rules - Examples of how a bracket schedule applies\n",
      "- Set up O Series Hospitality for multi-night lodging - Apply a tax rate per number of nights stayed\n",
      "- Set up O Series Hospitality for multi-night lodging - Example\n",
      "- View bracket schedules for a calculation rule - Examples of how a bracket schedule applies\n",
      "- Analyze what you want Tax Assist to do in O Series - Example of a post-calculation statement\n",
      "- Look Up Tax Rates in Vertex Cloud\n",
      "- Gross Receipts Taxes in Vertex Cloud - Hawaii\n",
      "- Vertex Cloud FAQs for Tax Calculation & Adjustments - Why am I getting different tax rates for two transactions going to the same destination?\n",
      "- Look Up Tax Rates in Vertex Cloud\n",
      "- Calculate a Trial Tax Amount Using a Bracket Schedule in Vertex Cloud\n",
      "- Rounding in Vertex Cloud - Example\n",
      "- Configure an Alabama Return to Report Zero Tax in Vertex Cloud - Setting up a return\n",
      "- Edit a bracket schedule in O Series Bracket Management - How to edit a bracket schedule\n",
      "- Turnover Tax Collection Phase 6: Create a calculation rule\n",
      "- Operators in Tax Assist - Math operators\n",
      "- Brazil telecommunications tax: Test for calculation results\n",
      "- Look up standard tax rates in O Series - Look up tax rates by jurisdiction\n",
      "- Set up O Series Hospitality for multi-night lodging\n",
      "- Create an imposition and calculation rule for the franchise fee - Create a user-defined calculation tax rule for your franchise fee\n",
      "- Purchase Order events in O Series - Example of a purchase order transaction\n",
      "- Enter Out-of-State Sales in Vertex Cloud - Entering out-of-state sales in Vertex Cloud\n",
      "- Get Tax Rates for Uploaded Addresses in Vertex Cloud - Getting tax rates for uploaded addresses\n",
      "- View bracket schedules for O Series tax rules - Examples of how a bracket schedule applies\n",
      "- Set up O Series Hospitality for multi-night lodging - Apply a tax rate per number of nights stayed\n",
      "- Set up O Series Hospitality for multi-night lodging - Example\n",
      "- View bracket schedules for a calculation rule - Examples of how a bracket schedule applies\n",
      "- Analyze what you want Tax Assist to do in O Series - Example of a post-calculation statement\n",
      "- Look Up Tax Rates in Vertex Cloud\n",
      "- Gross Receipts Taxes in Vertex Cloud - Hawaii\n",
      "- Vertex Cloud FAQs for Tax Calculation & Adjustments - Why am I getting different tax rates for two transactions going to the same destination?\n",
      "- Look Up Tax Rates in Vertex Cloud\n",
      "- Calculate a Trial Tax Amount Using a Bracket Schedule in Vertex Cloud\n",
      "- Rounding in Vertex Cloud - Example\n",
      "- Configure an Alabama Return to Report Zero Tax in Vertex Cloud - Setting up a return\n",
      "- Edit a bracket schedule in O Series Bracket Management - How to edit a bracket schedule\n",
      "- Turnover Tax Collection Phase 6: Create a calculation rule\n",
      "- Operators in Tax Assist - Math operators\n",
      "- Brazil telecommunications tax: Test for calculation results\n",
      "- Look up standard tax rates in O Series - Look up tax rates by jurisdiction\n",
      "- Set up O Series Hospitality for multi-night lodging\n",
      "- Create an imposition and calculation rule for the franchise fee - Create a user-defined calculation tax rule for your franchise fee\n",
      "- Purchase Order events in O Series - Example of a purchase order transaction\n",
      "\n",
      "tokens:  1894\n"
     ]
    }
   ],
   "source": [
    "from sklearn.preprocessing import MinMaxScaler\n",
    "import tiktoken\n",
    "\n",
    "# use text-embedding-ada for tokenization\n",
    "tokenizer = tiktoken.encoding_for_model(\"text-embedding-ada-002\")\n",
    "\n",
    "# separate the embeddings from each dict in the list\n",
    "embeddings = [x[\"embeddings\"] for x in xf_results(subset, embeddings=True)]\n",
    "\n",
    "# scale the embeddings\n",
    "scaler = MinMaxScaler()\n",
    "embeddings = scaler.fit_transform(embeddings)\n",
    "\n",
    "clusters = 4\n",
    "\n",
    "# fit a kmeans model to the embeddings\n",
    "kmeans = KMeans(n_clusters=clusters, random_state=0).fit(embeddings)\n",
    "\n",
    "# add the cluster labels to the essentials\n",
    "for i, label in enumerate(kmeans.labels_):\n",
    "    essentials[i][\"cluster\"] = label\n",
    "\n",
    "# create a mapping of the cluster labels to the items in the cluster\n",
    "cluster_map = {}\n",
    "for i, label in enumerate(kmeans.labels_):\n",
    "    if label not in cluster_map:\n",
    "        cluster_map[label] = []\n",
    "    cluster_map[label].append(essentials[i])\n",
    "\n",
    "# sort the clusters by name\n",
    "cluster_map = dict(sorted(cluster_map.items()))\n",
    "\n",
    "def combine_title_heading(item):\n",
    "    return item[\"title\"] + \" - \" + item[\"heading\"] if item[\"heading\"] not in item[\"title\"] else item[\"title\"]\n",
    "\n",
    "prompt_cluster = \"\"\n",
    "#  for each cluster in the map, print the cluster label along with the first few titles in the cluster\n",
    "for label, cluster in cluster_map.items():\n",
    "    prompt_cluster += f\"\\nCluster {label}\\n\"\n",
    "    for item in cluster:\n",
    "        prompt_cluster += \"- \" + combine_title_heading(item) + \"\\n\"\n",
    "\n",
    "print(prompt_cluster)\n",
    "# print the total tokens and total items in the cluster\n",
    "print(\"tokens: \", len(tokenizer.encode(prompt_cluster)))\n"
   ]
  },
  {
   "cell_type": "code",
   "execution_count": 6,
   "metadata": {},
   "outputs": [
    {
     "name": "stdout",
     "output_type": "stream",
     "text": [
      "- Cluster 0: Tax payment options and configurations\n",
      "- Cluster 1: Pennsylvania Local Services Tax forms and calculations\n",
      "- Cluster 2: Payroll tax forms and calculations for various states\n",
      "- Cluster 3: O Series tax setup and configuration\n"
     ]
    }
   ],
   "source": [
    "from fns import messages_prompt\n",
    "\n",
    "# ask LLM to create a name for each cluster\n",
    "\n",
    "system_prompt = \"\"\"\n",
    "You are a helpful assistant. You will be provided with a list of clusters of similar titles.\n",
    "Please provide a name for each cluster based on the titles in the cluster.\n",
    "Make sure the names are descriptive, concise, and unique (non-overlapping).\n",
    "\n",
    "# Example input:\n",
    "\n",
    "Cluster 0:\n",
    "- Set up your organization’s taxpayers in O Series\n",
    "- Set up taxpayer registrations in O Series\n",
    "- Set up your organization’s taxpayers in O Series - The General tab\n",
    "\n",
    "Cluster 1:\n",
    "- Your taxpayer hierarchy in O Series - Enabling Adopt Parent Setup\n",
    "- Add a Single Mapping in Vertex Cloud - Steps for adding a mapping\n",
    "- Bulk upload of taxability drivers in O Series - Prepare the taxability driver upload file\n",
    "\n",
    "Cluster 2:\n",
    "- Set up taxpayer registrations in O Series - Add imposition registration details\n",
    "- United Kingdom electronic filing for Making Tax Digital (MTD, VAT 100) in VAT Compliance \n",
    "- Slovakia electronic filing for Intrastat - Arrivals/Dispatch in VAT Compliance \n",
    "\n",
    "# Example output:\n",
    "\n",
    "- 0: taxpayer registration or organization setup\n",
    "- 1: taxpayer hierarchy and taxability drivers\n",
    "- 2: VAT and foreign electronic filing\n",
    "\n",
    "\"\"\"\n",
    "\n",
    "results = messages_prompt([{\n",
    "    \"role\": \"system\",\n",
    "    \"content\": system_prompt\n",
    "}, {\n",
    "    \"role\": \"user\",\n",
    "    \"content\": prompt_cluster\n",
    "}])\n",
    "\n",
    "# print the results\n",
    "print(results)\n"
   ]
  },
  {
   "cell_type": "code",
   "execution_count": 7,
   "metadata": {},
   "outputs": [
    {
     "name": "stdout",
     "output_type": "stream",
     "text": [
      "Cluster names: [('0', 'Tax payment options and configurations'), ('1', 'Pennsylvania Local Services Tax forms and calculations'), ('2', 'Payroll tax forms and calculations for various states'), ('3', 'O Series tax setup and configuration')]\n"
     ]
    },
    {
     "data": {
      "text/plain": [
       "{'0': 'Tax payment options and configurations',\n",
       " '1': 'Pennsylvania Local Services Tax forms and calculations',\n",
       " '2': 'Payroll tax forms and calculations for various states',\n",
       " '3': 'O Series tax setup and configuration'}"
      ]
     },
     "execution_count": 7,
     "metadata": {},
     "output_type": "execute_result"
    }
   ],
   "source": [
    "import re\n",
    "\n",
    "# extract the cluster names from the llm output\n",
    "cluster_names = re.findall(r\"(\\d+): (.+)\", results)\n",
    "\n",
    "print(\"Cluster names:\", cluster_names)\n",
    "cluster_names = dict(cluster_names)\n",
    "\n",
    "cluster_names"
   ]
  },
  {
   "cell_type": "code",
   "execution_count": 8,
   "metadata": {},
   "outputs": [
    {
     "name": "stdout",
     "output_type": "stream",
     "text": [
      "\n",
      "Tax payment options and configurations\n",
      "- Case study: Determine tax payment options for Vertex O Series for Leasing - Determining stream payment taxability\n",
      "- Case study: Determine tax payment options for Vertex O Series for Leasing - Determining upfront payment taxability\n",
      "- Purchase Order events in O Series - Example of a purchase order transaction\n",
      "\n",
      "Pennsylvania Local Services Tax forms and calculations\n",
      "- Vertex Payroll Tax forms for Pennsylvania Local Services Tax\n",
      "- Vertex Payroll Tax forms for Pennsylvania Local Services Tax - PA\\_LST.STATE\\_YTD\\_PREV\n",
      "- Vertex Payroll Tax forms for Pennsylvania Local Services Tax - Use the forms for employees with multiple work locations\n",
      "\n",
      "Payroll tax forms and calculations for various states\n",
      "- Vertex Payroll Tax Forms for Pennsylvania\n",
      "- Vertex Payroll Tax form for Pennsylvania-Maryland reciprocal exception\n",
      "- Pennsylvania State Specifics\n",
      "\n",
      "O Series tax setup and configuration\n",
      "- Look up standard tax rates in O Series - Look up tax rates by jurisdiction\n",
      "- Set up O Series Hospitality for multi-night lodging\n",
      "- Create an imposition and calculation rule for the franchise fee - Create a user-defined calculation tax rule for your franchise fee\n"
     ]
    }
   ],
   "source": [
    "# rename the cluster keys to the cluster names\n",
    "clustered_map = {cluster_names[str(k)]: v for k, v in cluster_map.items()}\n",
    "\n",
    "# print the first 3 items in each cluster\n",
    "for label, cluster in clustered_map.items():\n",
    "    print(f\"\\n{label}\")\n",
    "    for item in cluster[:3]:\n",
    "        print(\"- \" + combine_title_heading(item))\n"
   ]
  },
  {
   "cell_type": "markdown",
   "metadata": {},
   "source": [
    "## If user down-votes the answer..."
   ]
  },
  {
   "cell_type": "code",
   "execution_count": 9,
   "metadata": {},
   "outputs": [
    {
     "name": "stdout",
     "output_type": "stream",
     "text": [
      "Sorry, which of the following topics are you interested in?\n",
      "1. Tax payment options and configurations\n",
      "2. Pennsylvania Local Services Tax forms and calculations\n",
      "3. Payroll tax forms and calculations for various states\n",
      "4. O Series tax setup and configuration\n",
      "5. something else\n"
     ]
    }
   ],
   "source": [
    "# takes the clustered_map and returns a prompt to the user for follow up questions\n",
    "def follow_up_prompt(clustered_map):\n",
    "    prompt = \"Sorry, which of the following topics are you interested in?\\n\"\n",
    "    index = 0\n",
    "    for label, cluster in clustered_map.items():\n",
    "        index += 1\n",
    "        prompt += f\"{index}. {label.replace('\"', \"\")}\\n\"\n",
    "    prompt += f\"{index + 1}. something else\"\n",
    "    return prompt\n",
    "\n",
    "# print the follow up prompt\n",
    "print(follow_up_prompt(clustered_map))"
   ]
  },
  {
   "cell_type": "code",
   "execution_count": 15,
   "metadata": {},
   "outputs": [],
   "source": [
    "# Putting it all together\n",
    "\n",
    "# function takes the user query and returns the follow up prompt\n",
    "def get_follow_up(query, k = 50, clusters=3):\n",
    "    \"\"\"\n",
    "    Takes the user query and returns a dict with the following keys:\n",
    "    - top_3: the top 3 results from the vector search\n",
    "    - follow_up: the follow up prompt\n",
    "    \"\"\"\n",
    "    embeddings = get_embeddings(query)[\"data\"][0][\"embedding\"]\n",
    "\n",
    "    subset = vector_search(\n",
    "        embeddings,\n",
    "        k=k,\n",
    "    )\n",
    "\n",
    "    essentials = xf_results(subset)\n",
    "    embeddings = [x[\"embeddings\"] for x in xf_results(subset, embeddings=True)]\n",
    "    scaler = MinMaxScaler()\n",
    "\n",
    "    embeddings = scaler.fit_transform(embeddings)\n",
    "    kmeans = KMeans(n_clusters=clusters, random_state=0).fit(embeddings)\n",
    "\n",
    "    for i, label in enumerate(kmeans.labels_):\n",
    "        essentials[i][\"cluster\"] = label\n",
    "    cluster_map = {}\n",
    "    for i, label in enumerate(kmeans.labels_):\n",
    "        if label not in cluster_map:\n",
    "            cluster_map[label] = []\n",
    "        cluster_map[label].append(essentials[i])\n",
    "    cluster_map = dict(sorted(cluster_map.items()))\n",
    "\n",
    "    prompt_cluster = \"\"\n",
    "    for label, cluster in cluster_map.items():\n",
    "        prompt_cluster += f\"\\nCluster {label}\\n\"\n",
    "        for item in cluster:\n",
    "            prompt_cluster += \"- \" + combine_title_heading(item) + \"\\n\"\n",
    "            \n",
    "    system_prompt = \"\"\"\n",
    "    You are a helpful assistant. You will be provided with a user's query and a\n",
    "    list of clusters of similar titles. Please provide a name for each cluster\n",
    "    based on the titles in the cluster as they relate to the query. Make sure\n",
    "    the names are comprehensive, elaborative and unique (non-overlapping).\n",
    "    \"\"\"\n",
    "    results = messages_prompt([{\n",
    "        \"role\": \"system\",\n",
    "        \"content\": system_prompt\n",
    "    }, {\n",
    "        \"role\": \"user\",\n",
    "        \"content\": \"query:\\n\\n\" + query + \"clusters:\\n\\n\" + prompt_cluster\n",
    "    }])\n",
    "\n",
    "    cluster_names = re.findall(r\"(\\d+): (.+)\", results)\n",
    "    cluster_names = dict(cluster_names)\n",
    "    clustered_map = {cluster_names[str(k)]: v for k, v in cluster_map.items()}\n",
    "    #print(clustered_map)\n",
    "    return {\n",
    "        \"top_3\": essentials[:3],\n",
    "        \"follow_up\": follow_up_prompt(clustered_map)\n",
    "    }\n",
    "\n"
   ]
  },
  {
   "cell_type": "code",
   "execution_count": 16,
   "metadata": {},
   "outputs": [
    {
     "name": "stdout",
     "output_type": "stream",
     "text": [
      "batch: 50\n",
      "url: https://copilot-dev-primary-search-service-eastus2.search.windows.net/indexes/2023-12-29/docs/search?api-version=2023-11-01\n",
      "batch: 50\n",
      "url: https://copilot-dev-primary-search-service-eastus2.search.windows.net/indexes/2023-12-29/docs/search?api-version=2023-11-01&skip=50\n",
      "Query:\n",
      " When I am adding a user in O Series, how do I get support? \n",
      "\n",
      "Top results:\n",
      "- Set up users in O Series\n"
     ]
    },
    {
     "data": {
      "text/markdown": [
       "Set up users in O Series  When a member of your organization needs Vertex® O Series access, a Master Administrator or Partition System Administrator - depending on the partitions in which this user needs to work - can set up a user via the Users feature.  Note: This feature is available in the O Series On-Premise and O Series On-Demand deployments only. It is not available in O Series Cloud. For information about setting up users in O Series Cloud, go here.  To set up a user:  1. Navigate to System > Security > Users.  The list of all users is displayed. 2. Complete one of these steps:   * To create a new user, click Add a User to display the Add User page.  * To edit an existing user, click Edit in the Actions column to display the Edit User page. 3. Complete the fields according to \"Field descriptions\" below. 4. Click Save User when you are satisfied with your settings for this user.  To view an existing user, click View in the Actions column to display the View User page."
      ],
      "text/plain": [
       "<IPython.core.display.Markdown object>"
      ]
     },
     "metadata": {},
     "output_type": "display_data"
    },
    {
     "name": "stdout",
     "output_type": "stream",
     "text": [
      "- Users in O Series\n"
     ]
    },
    {
     "data": {
      "text/markdown": [
       "Users in O Series  There is one thing that every member of your organization needs to take advantage  of Vertex® O Series On-Premise and On-Demand features - to be an O Series user. Users are the people in your organization who need access to O Series functionality.  Here's what you can do with the Users feature:  * Create O Series users. * Assign them a role or roles to define their range of access to specific O Series data and functionality. * Assign them to a partition or partitions. * Change user names. * Reset and change passwords. * Deactivate users. * Search for users by Partition, User Name, or E-Mail.  Note: This feature is available in the O Series On-Premise and O Series On-Demand deployments only. It is not available in O Series Cloud. For information about setting up users in O Series Cloud, go here.     Who can set up a user?  * A Master Administrator can manage users who have access to all partitions. * A Partition System Administrator is responsible for the users and data in a given partition. This person manages users whose access is limited to a given partition."
      ],
      "text/plain": [
       "<IPython.core.display.Markdown object>"
      ]
     },
     "metadata": {},
     "output_type": "display_data"
    },
    {
     "name": "stdout",
     "output_type": "stream",
     "text": [
      "- Enable Enterprise Single Sign-On (SSO) in O Series On-Demand\n"
     ]
    },
    {
     "data": {
      "text/markdown": [
       "Enable Enterprise Single Sign-On (SSO) in O Series On-Demand  Single Sign-On (SSO) strengthens system security and makes users' lives easier by  reducing password fatigue. SSO for Vertex Vertex® O Series On-Demand (O Series) is now available upon request from Customer Support.  Note: The process for implementing SSO requires a number of steps to be completed by Vertex  Consulting. For those who prefer it, a self-service option is planned for a later  date that will not require assistance from Vertex Consulting.  Here is the process:  1. Submit a Customer Support request to have SSO enabled on your On-Demand instance. 2. Receive confirmation that your request has been forwarded to Vertex Consulting and  has been placed in the implementation queue. 3. Vertex Consulting begins work when your request reaches the top of the queue. They  will assist you in setting up multi-partition user functionality and guide you through  user consolidation and conversion of user names.     Related articles  User consolidation"
      ],
      "text/plain": [
       "<IPython.core.display.Markdown object>"
      ]
     },
     "metadata": {},
     "output_type": "display_data"
    },
    {
     "name": "stdout",
     "output_type": "stream",
     "text": [
      "\n",
      "Follow up:\n",
      "Sorry, which of the following topics are you interested in?\n",
      "1. User Management in O Series\n",
      "2. O Series On-Premise Implementation and Support\n",
      "3. Authentication and Access Management in O Series\n",
      "4. Exemption Certificate Portal Account Management\n",
      "5. something else\n"
     ]
    }
   ],
   "source": [
    "from IPython.display import display, Markdown as md\n",
    "\n",
    "\n",
    "cause_effect_map = {\n",
    "    \"When I am adding a user in O Series, how do I get support?\":                                                    \n",
    "        \"user support\",\n",
    "    \"What products does Vertex have?\":                                                                               \n",
    "        \"products\",\n",
    "    \"How do I add a company?\":                                                                                       \n",
    "        \"trigger follow-up with the user for clarification\",\n",
    "    \"How do I play pickleball?\":                                                                                     \n",
    "        \"no results\",\n",
    "    \"Where do you set up regional preferences in O Series?\":                                                         \n",
    "        \"regional preferences\",\n",
    "    \"A new district tax has become effective in TX, will my setup pick up the new tax?\":                             \n",
    "        \"verify the config\",\n",
    "    \"The business just opened an office in London, how do I get the system to calc tax there?\":                      \n",
    "        \"explain how to setup new geographic registration and explain that more detailed configuration is possible\",\n",
    "    \"I have a customer indicating that the calculation result is incorrect. How do I verify the calculation result?\":\n",
    "        \"using transaction tester to simulate the calculation and see the results and identify follow-up options to explore configuration\",\n",
    "    \"What are the options to setup product taxability if I cannot find it in the Vertex taxability content?\":        \n",
    "        \"creating taxability categories and creating tax rules\"\n",
    "}\n",
    "\n",
    "# get the 2nd query\n",
    "query = list(cause_effect_map.keys())[0]\n",
    "expect = cause_effect_map[query]\n",
    "\n",
    "response = get_follow_up(query, k=100, clusters=4)\n",
    "\n",
    "# print the title + headings for the top 3 results\n",
    "print(\"Query:\\n\", query, \"\\n\")\n",
    "print(\"Top results:\")\n",
    "for idx, item in enumerate(response[\"top_3\"]):\n",
    "    print(\"-\", combine_title_heading(item).replace('\"', \"\"))\n",
    "    markdown = md(item[\"content\"])\n",
    "    display(markdown)\n",
    "\n",
    "# pretty print the results\n",
    "print(f\"\\nFollow up:\\n{response[\"follow_up\"]}\")"
   ]
  },
  {
   "cell_type": "code",
   "execution_count": 17,
   "metadata": {},
   "outputs": [
    {
     "name": "stdout",
     "output_type": "stream",
     "text": [
      "user support\n",
      "other stuff\n"
     ]
    }
   ],
   "source": [
    "def strip_first_line(s):\n",
    "    \"\"\"\n",
    "    takes a string that wraps over multiple lines and removes the first line\n",
    "    \"\"\"\n",
    "    return s[s.find(\"\\n\")+1:]\n",
    "\n",
    "test_query = \"When I am adding a user in O Series, how do I get support?\\nuser support\\nother stuff\"\n",
    "test_query = strip_first_line(test_query)\n",
    "print(test_query)"
   ]
  },
  {
   "cell_type": "code",
   "execution_count": 18,
   "metadata": {},
   "outputs": [
    {
     "name": "stdout",
     "output_type": "stream",
     "text": [
      "batch: 4\n",
      "url: https://copilot-dev-primary-search-service-eastus2.search.windows.net/indexes/2023-12-29/docs/search?api-version=2023-11-01\n",
      "Query:\n",
      "When I am adding a user in O Series, how do I get support?\n",
      "Exemption Certificate Portal Account Management\n",
      "\n",
      "Top results:\n",
      "- Provide Exemption Certificate Portal users with their O Series customer codes\n"
     ]
    },
    {
     "data": {
      "text/markdown": [
       "Provide Exemption Certificate Portal users with their O Series customer codes  Note: This publication is for users of Vertex Exemption Certificate Manager (ECM). If you  use Vertex Certificate Center, go here.  For users affiliated with a company or organization that already has an account set  up in Vertex® O Series, these users must know their company's or organization's O Series customer code before accessing the portal.  Vertex recommends setting up your Customer Service representatives so they can provide  these portal users with their customer code in case they do not have it readily available  when attempting to log in.     Related articles  Create ECP accounts overview  Open an ECP instance  Create ECP accounts for existing and new customers  Create credentials for logging in to an account  Manage users in ECP"
      ],
      "text/plain": [
       "<IPython.core.display.Markdown object>"
      ]
     },
     "metadata": {},
     "output_type": "display_data"
    },
    {
     "name": "stdout",
     "output_type": "stream",
     "text": [
      "- Create Exemption Certificate Portal accounts - Overview and considerations\n"
     ]
    },
    {
     "data": {
      "text/markdown": [
       "Create Exemption Certificate Portal accounts - Overview and considerations  Note: This publication is for users of Vertex Exemption Certificate Manager (ECM). If you  use Vertex Certificate Center, go here.  Before creating or accessing certificates in ECP, your customer must create an account in ECP.     Account components  An ECP account has two main components:  * ECP customer - The company or organization with which you do business. The ECP customer corresponds to a customer in Vertex® O Series.  If you are using ECW for certificate creation, the customer's information prefills many of the fields  on the Buyer Information page in ECW.  * ECP user - An individual from that company or organization who uses the portal to create,  view, print, or renew certificates at an ECP location. The ECP user corresponds to a customer contact in O Series.  If you are using ECW for certificate creation, the company representative that provides a name on the  Signature Information page in ECW corresponds to the ECP user and an O Series customer contact.  A customer can have multiple users, each with their own contact information.     ECP customer identifiers  An ECP customer has several identifiers - a company name, a company code, and a company  email - that flow across the ECP, O Series, and ECW systems.  Customer's company name across systems  Your customers' company names and company representative names flow across the ECP, O Series, and ECW systems. The following table identifies how the company names and company representative  names are identified in each system:  \n",
       "\n",
       "| System | Company name entity | Company representative entity |\n",
       "| --- | --- | --- |\n",
       "| ECP | Company Name(identified on Create User Account page, under Company Details) | User Name(identified on Create User Account page, under Contact Details) |\n",
       "| O Series | Customer Name(identified on Customer General tab) | Contact Name(identified on Customer Contacts tab) |\n",
       "| ECW | Company(identified on Buyer Information page) | Name(Identified on Signature Information page) |"
      ],
      "text/plain": [
       "<IPython.core.display.Markdown object>"
      ]
     },
     "metadata": {},
     "output_type": "display_data"
    },
    {
     "name": "stdout",
     "output_type": "stream",
     "text": [
      "- Set up O Series for use with Exemption Certificate Wizard and Exemption Certificate\n"
     ]
    },
    {
     "data": {
      "text/markdown": [
       "Set up O Series for use with Exemption Certificate Wizard and Exemption Certificate  Portal  Note: This publication is for users of Vertex Exemption Certificate Manager (ECM). If you  use Vertex Certificate Center, go here.  You can use Vertex® O Series to accept and manage certificates that are created in ECW and Exemption Certificate Portal (ECP).  Setup tasks  * Add configuration parameters to the vertex.cfg file for ECW and ECP. * Set configuration parameters in your vertex.cfg file for your email service. * Ensure that taxpayer codes match ECW seller codes. * Create a certificate letter template for rejected certificates. * Set parameters for certificate approval and rejection."
      ],
      "text/plain": [
       "<IPython.core.display.Markdown object>"
      ]
     },
     "metadata": {},
     "output_type": "display_data"
    },
    {
     "name": "stdout",
     "output_type": "stream",
     "text": [
      "\n",
      "Follow up:\n",
      "Sorry, which of the following topics are you interested in?\n",
      "1. Setting up O Series for Exemption Certificate Support\n",
      "2. Managing Exemption Certificate Portal Accounts and Customer Codes\n",
      "3. Understanding the Exemption Certificate Wizard for Manager Support\n",
      "4. something else\n"
     ]
    }
   ],
   "source": [
    "\n",
    "def get_name_from_choice(choice, follow_up_prompt):\n",
    "    \"\"\"\n",
    "    Takes the follow up prompt and the user's choice and returns the name of the cluster\n",
    "    \"\"\"\n",
    "    items = re.findall(r\"(\\d+). (.+)\", follow_up_prompt)\n",
    "    #print(\"items\", items)\n",
    "    items = dict(items)\n",
    "    return items[str(choice)] # \"something else\": escape hatch to different tool?\n",
    "\n",
    "# test the function\n",
    "choice = 4\n",
    "chosen = get_name_from_choice(choice, response[\"follow_up\"]).replace('\"', '')\n",
    "\n",
    "# add chosen to the query and get the results\n",
    "updated_query = query + \"\\n\" + chosen if chosen != \"something else\" else strip_first_line(query)\n",
    "response2 = get_follow_up(updated_query, 4)\n",
    "\n",
    "# print the title + headings for the top 3 results\n",
    "print(\"Query:\\n\" + updated_query + \"\\n\")\n",
    "print(\"Top results:\")\n",
    "\n",
    "for idx, item in enumerate(response2[\"top_3\"]):\n",
    "    print(\"-\", combine_title_heading(item))\n",
    "    markdown = md(item[\"content\"])\n",
    "    display(markdown)\n",
    "\n",
    "# pretty print the results\n",
    "print(f\"\\nFollow up:\\n{response2[\"follow_up\"]}\")\n",
    "\n"
   ]
  }
 ],
 "metadata": {
  "kernelspec": {
   "display_name": ".venv",
   "language": "python",
   "name": "python3"
  },
  "language_info": {
   "codemirror_mode": {
    "name": "ipython",
    "version": 3
   },
   "file_extension": ".py",
   "mimetype": "text/x-python",
   "name": "python",
   "nbconvert_exporter": "python",
   "pygments_lexer": "ipython3",
   "version": "3.12.0"
  }
 },
 "nbformat": 4,
 "nbformat_minor": 2
}
