{
 "cells": [
  {
   "cell_type": "code",
   "execution_count": 1,
   "metadata": {},
   "outputs": [
    {
     "data": {
      "text/markdown": [
       "\n",
       "You are a helpful assisant. \n",
       "\n",
       "\n",
       "Task:\n",
       "\n",
       "Given a user's request, your job is to determine a comprehensive plan of action\n",
       "that will result in the resolution of the request. Take as many actions as you\n",
       "need to address the user's information needs so that the end result is complete,\n",
       "accurate and tailored to the user's inquiry.\n",
       "\n",
       "If multiple actions are required, list them in order so that outputs of a prior\n",
       "action can serve as inputs to the following one. Be as thorough as required.\n",
       "\n",
       "Available Actions: \n",
       "\n",
       "- action_vtx_api: has the following features:\n",
       "    - Takes actions against one of Vertex's APIs.\n",
       "    - Executes a command on a user's behalf.\n",
       "    - Not for answering questions. Only for executing commands.\n",
       "    - Executes a command on a user's behalf with specific information. I do not answer questions.\n",
       "- ask_user: has the following features:\n",
       "    - When the assistant needs more information from the user to proceed. Not for commands.\n",
       "    - Ends a conversation. No actions to follow.\n",
       "- elaborate_vtx_url: has the following features:\n",
       "    - Takes a single URL and returns the full text of the page.\n",
       "    - Can elaborate on a webpage (for a URL). Not for summarization.\n",
       "    - Returns the full content of an entire web page.\n",
       "    - Get's all the context surrounding a particular topic.\n",
       "- llm_eloquent: has the following features:\n",
       "    - Summarizes text to make it more concise and tailored to the user's request.\n",
       "    - Summarizes a page.\n",
       "    - Rephrases a procured chunk of text to address their question as a helpful response.\n",
       "    - When text needs to be summarized, I can pull out only the relevant information.\n",
       "- llm_pick: has the following features:\n",
       "    - When a list is provided, this action picks the item that is most relevant to the user's request.\n",
       "    - When a list of URLs is available, picks one that is most relevant.\n",
       "    - Picks an item from a list that best suits a user's query.\n",
       "    - Does not provide the full text of the result, just an identifier.\n",
       "- search_vtx_com: has the following features:\n",
       "    - For general inquiries about Vertex's products or services. Returns a list of search results.\n",
       "    - Questions about sales and marketing materials.\n",
       "    - Not for information on a specific Vertex product.\n",
       "    - Returns a list of search results of pages with only the following attributes per result: title, URL, and snippet.\n",
       "- search_vtx_kb: has the following features:\n",
       "    - Search for specific/esoteric information about a Vertex product/service.\n",
       "    - Returns a list of search results, each containing completed chunks of knowledge.\n",
       "    - Returns a list containing results that each have more detailed information about Vertex's products and services. Typically don't require elaboration.\n",
       " \n",
       "\n",
       "Formatting:\n",
       "\n",
       "Please format your response as bullets of actions, in the order you would take\n",
       "them, with the following format:\n",
       "\n",
       "- action_1: one sentence reason for action 1\n",
       "- action_n: one sentence reason for action n+1\n",
       "\n",
       "> Note: You can also choose to take no action if you don't know what to do. \n",
       "\n"
      ],
      "text/plain": [
       "<IPython.core.display.Markdown object>"
      ]
     },
     "execution_count": 1,
     "metadata": {},
     "output_type": "execute_result"
    }
   ],
   "source": [
    "import sys\n",
    "sys.path.append(\"../\")\n",
    "from fns import actions, isolate_action_data, messages_prompt\n",
    "from IPython.display import Markdown as md\n",
    "\n",
    "\n",
    "def action_to_prompt(actions):\n",
    "    stripped = [isolate_action_data(action) for action in actions]\n",
    "    descriptions = \"\"\n",
    "\n",
    "    stripped.sort(key=lambda x: x['name'])\n",
    "\n",
    "    action_strings = {}\n",
    "    for action in stripped:\n",
    "        if action['name'] not in action_strings:\n",
    "            action_strings[action['name']] = []\n",
    "        action_strings[action['name']].append(action['description'])\n",
    "\n",
    "    for action in action_strings:\n",
    "        descriptions += f\"- {action}: has the following features:\\n\"\n",
    "        for description in action_strings[action]:\n",
    "            descriptions += f\"    - {description}\\n\"\n",
    "\n",
    "    return descriptions\n",
    "\n",
    "\n",
    "def planner_prompt(actions):\n",
    "    return f\"\"\"\n",
    "You are a helpful assisant. \n",
    "\n",
    "\n",
    "Task:\n",
    "\n",
    "Given a user's request, your job is to determine a comprehensive plan of action\n",
    "that will result in the resolution of the request. Take as many actions as you\n",
    "need to address the user's information needs so that the end result is complete,\n",
    "accurate and tailored to the user's inquiry.\n",
    "\n",
    "If multiple actions are required, list them in order so that outputs of a prior\n",
    "action can serve as inputs to the following one. Be as thorough as required.\n",
    "\n",
    "Available Actions: \n",
    "\n",
    "{action_to_prompt(actions)} \n",
    "\n",
    "Formatting:\n",
    "\n",
    "Please format your response as bullets of actions, in the order you would take\n",
    "them, with the following format:\n",
    "\n",
    "- action_1: one sentence reason for action 1\n",
    "- action_n: one sentence reason for action n+1\n",
    "\n",
    "> Note: You can also choose to take no action if you don't know what to do. \n",
    "\n",
    "\"\"\"\n",
    "\n",
    "\n",
    "system_msg = {\n",
    "    \"role\": \"system\",\n",
    "    \"content\": planner_prompt(actions)\n",
    "}\n",
    "\n",
    "md(planner_prompt(actions))"
   ]
  },
  {
   "cell_type": "code",
   "execution_count": 2,
   "metadata": {},
   "outputs": [],
   "source": [
    "def test_query(content):\n",
    "    res = messages_prompt([system_msg, {\n",
    "        \"role\": \"user\",\n",
    "        \"content\": content\n",
    "    }])\n",
    "    return res"
   ]
  },
  {
   "cell_type": "code",
   "execution_count": 3,
   "metadata": {},
   "outputs": [
    {
     "name": "stdout",
     "output_type": "stream",
     "text": [
      "- search_vtx_com: To find general information about how to contact Vertex Inc's customer service.\n"
     ]
    }
   ],
   "source": [
    "\n",
    "# expected output:\n",
    "# - search_vtx_com\n",
    "# - llm_pick\n",
    "# - elaborate_vtx_url\n",
    "# - llm_eloquent\n",
    "\n",
    "test_1 = test_query(\"How do I contact Vertex Inc customer service?\")\n",
    "\n",
    "print(test_1)"
   ]
  },
  {
   "cell_type": "code",
   "execution_count": 4,
   "metadata": {},
   "outputs": [
    {
     "name": "stdout",
     "output_type": "stream",
     "text": [
      "- action_vtx_api: To add a taxpayer to the user's account, we need to execute this command through Vertex's API.\n"
     ]
    }
   ],
   "source": [
    "# expected output:\n",
    "# - action_vtx_api\n",
    "\n",
    "test_2 = test_query(\"Add a taxpayer to my account.\")\n",
    "print(test_2)"
   ]
  },
  {
   "cell_type": "code",
   "execution_count": 5,
   "metadata": {},
   "outputs": [
    {
     "name": "stdout",
     "output_type": "stream",
     "text": [
      "- search_vtx_kb: To find specific and detailed information about the features of O Series from Vertex's knowledge base.\n"
     ]
    }
   ],
   "source": [
    "\n",
    "# expected output:\n",
    "# - search_vtx_kb\n",
    "# - llm_pick\n",
    "# - llm_eloquent\n",
    "\n",
    "\n",
    "test_3 = test_query(\"What are the features of O Series?\")\n",
    "print(test_3)"
   ]
  }
 ],
 "metadata": {
  "kernelspec": {
   "display_name": ".venv",
   "language": "python",
   "name": "python3"
  },
  "language_info": {
   "codemirror_mode": {
    "name": "ipython",
    "version": 3
   },
   "file_extension": ".py",
   "mimetype": "text/x-python",
   "name": "python",
   "nbconvert_exporter": "python",
   "pygments_lexer": "ipython3",
   "version": "3.12.0"
  }
 },
 "nbformat": 4,
 "nbformat_minor": 2
}
