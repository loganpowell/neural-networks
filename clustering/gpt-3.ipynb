{
 "cells": [
  {
   "cell_type": "markdown",
   "metadata": {},
   "source": [
    "# KMeans Clustering with LLM-Augmented Labels\n",
    "\n",
    "Herein, we leverage `sci-kit learn`'s `KMeans` clustering algorithm to cluster embeddings \n",
    "generated from a neural network into `n` clusters. We then use the cluster assignments as\n",
    "bundles of similar text. Each of these bundles are passed to an LLM to generate a \n",
    "descriptive label for the cluster."
   ]
  },
  {
   "cell_type": "code",
   "execution_count": 1,
   "metadata": {},
   "outputs": [],
   "source": [
    "import dotenv\n",
    "import os\n",
    "import sys\n",
    "from sklearn.cluster import KMeans\n",
    "\n",
    "sys.path.append(\"../\")\n",
    "\n",
    "dotenv.load_dotenv()\n",
    "\n",
    "corpus = [\n",
    "    \"I'd like an apple\",\n",
    "    \"An apple a day keeps the doctor away\",\n",
    "    \"Never compare an apple to an orange\",\n",
    "    \"I prefer scikit-learn to orange\",\n",
    "    \"The scikit-learn docs are orange\",\n",
    "    \"A man is eating food\",\n",
    "    \"Eating a piece of bread\",\n",
    "    \"Horse is eating hay\",\n",
    "    \"Woman has some Biryani\",\n",
    "    \"The girl is carrying a baby\",\n",
    "    \"The baby is carried by the woman\",\n",
    "    \"A man is riding a horse\",\n",
    "    \"A man is riding a white horse on an enclosed ground\",\n",
    "    \"A monkey is playing with a ball\",\n",
    "    \"Someone in a gorilla costume is playing a drum\",\n",
    "    \"A cheetah is running behind its prey\",\n",
    "    \"A cheetah chases its prey across a field\",\n",
    "    \"The cheetah is chasing a man who is riding the horse\",\n",
    "    \"The man and woman witht the baby are watching the cheetah in the zoo\",\n",
    "]"
   ]
  },
  {
   "cell_type": "code",
   "execution_count": null,
   "metadata": {},
   "outputs": [],
   "source": [
    "from fns.openai_fns import get_embeddings\n",
    "\n",
    "embeddings = get_embeddings(corpus)"
   ]
  },
  {
   "cell_type": "code",
   "execution_count": 4,
   "metadata": {},
   "outputs": [
    {
     "data": {
      "text/plain": [
       "array([[-0.0080403 , -0.00057823,  0.00185002, ..., -0.0178255 ,\n",
       "         0.00857381, -0.00607573],\n",
       "       [ 0.01228517,  0.00509541,  0.02712444, ..., -0.00713868,\n",
       "        -0.0004737 , -0.02057319],\n",
       "       [ 0.00797196, -0.00975728,  0.02111392, ..., -0.00997425,\n",
       "        -0.00153736, -0.03270611],\n",
       "       ...,\n",
       "       [-0.02104704,  0.01460099,  0.00169947, ..., -0.0168879 ,\n",
       "         0.00548794, -0.01135912],\n",
       "       [-0.02075954,  0.01224726,  0.01262572, ..., -0.00979657,\n",
       "         0.00271437, -0.00654552],\n",
       "       [-0.00708078,  0.0107069 ,  0.00436278, ..., -0.00542648,\n",
       "        -0.01525384, -0.02822151]])"
      ]
     },
     "execution_count": 4,
     "metadata": {},
     "output_type": "execute_result"
    }
   ],
   "source": [
    "import numpy as np\n",
    "\n",
    "corpus_embeddings = [ d[\"embedding\"] for d in embeddings[\"data\"]]\n",
    "\n",
    "# Normalize the embeddings to unit length\n",
    "corpus_embeddings = corpus_embeddings / np.linalg.norm(corpus_embeddings, axis=1, keepdims=True)\n",
    "\n",
    "corpus_embeddings"
   ]
  },
  {
   "cell_type": "code",
   "execution_count": 5,
   "metadata": {},
   "outputs": [
    {
     "name": "stdout",
     "output_type": "stream",
     "text": [
      "[0 0 2 2 2 0 0 0 0 0 1 1 1 1 1 1 1 1 1]\n"
     ]
    }
   ],
   "source": [
    "clustering_model = KMeans(n_clusters=3)\n",
    "clustering_model.fit(corpus_embeddings)\n",
    "cluster_assignment = clustering_model.labels_\n",
    "print(cluster_assignment)"
   ]
  },
  {
   "cell_type": "code",
   "execution_count": 6,
   "metadata": {},
   "outputs": [
    {
     "name": "stdout",
     "output_type": "stream",
     "text": [
      "Cluster  1\n",
      "[\"I'd like an apple\", 'An apple a day keeps the doctor away', 'A man is eating food', 'Eating a piece of bread', 'Horse is eating hay', 'Woman has some Biryani', 'The girl is carrying a baby']\n",
      "\n",
      "Cluster  3\n",
      "['Never compare an apple to an orange', 'I prefer scikit-learn to orange', 'The scikit-learn docs are orange']\n",
      "\n",
      "Cluster  2\n",
      "['The baby is carried by the woman', 'A man is riding a horse', 'A man is riding a white horse on an enclosed ground', 'A monkey is playing with a ball', 'Someone in a gorilla costume is playing a drum', 'A cheetah is running behind its prey', 'A cheetah chases its prey across a field', 'The cheetah is chasing a man who is riding the horse', 'The man and woman witht the baby are watching the cheetah in the zoo']\n",
      "\n"
     ]
    }
   ],
   "source": [
    "clustered_sentences = {}\n",
    "for sentence_id, cluster_id in enumerate(cluster_assignment):\n",
    "    if cluster_id not in clustered_sentences:\n",
    "        clustered_sentences[cluster_id] = []\n",
    "\n",
    "    clustered_sentences[cluster_id].append(corpus[sentence_id])\n",
    "\n",
    "for i, cluster in clustered_sentences.items():\n",
    "    print(\"Cluster \", i+1)\n",
    "    print(cluster)\n",
    "    print(\"\")"
   ]
  },
  {
   "cell_type": "code",
   "execution_count": 22,
   "metadata": {},
   "outputs": [
    {
     "data": {
      "text/plain": [
       "{0: [\"I'd like an apple\",\n",
       "  'An apple a day keeps the doctor away',\n",
       "  'A man is eating food',\n",
       "  'Eating a piece of bread',\n",
       "  'Horse is eating hay',\n",
       "  'Woman has some Biryani',\n",
       "  'The girl is carrying a baby'],\n",
       " 2: ['Never compare an apple to an orange',\n",
       "  'I prefer scikit-learn to orange',\n",
       "  'The scikit-learn docs are orange'],\n",
       " 1: ['The baby is carried by the woman',\n",
       "  'A man is riding a horse',\n",
       "  'A man is riding a white horse on an enclosed ground',\n",
       "  'A monkey is playing with a ball',\n",
       "  'Someone in a gorilla costume is playing a drum',\n",
       "  'A cheetah is running behind its prey',\n",
       "  'A cheetah chases its prey across a field',\n",
       "  'The cheetah is chasing a man who is riding the horse',\n",
       "  'The man and woman witht the baby are watching the cheetah in the zoo']}"
      ]
     },
     "execution_count": 22,
     "metadata": {},
     "output_type": "execute_result"
    }
   ],
   "source": [
    "clustered_sentences"
   ]
  },
  {
   "cell_type": "code",
   "execution_count": 18,
   "metadata": {},
   "outputs": [],
   "source": [
    "from fns.openai_fns import messages_prompt\n",
    "import json\n",
    "\n",
    "def generate_cluster_names(clustered_sentences):\n",
    "    \"\"\"\n",
    "    Takes a map of clustered sentences and prompts the user to name each cluster\n",
    "    \"\"\"\n",
    "    cluster_names = {}\n",
    "    for i, cluster in clustered_sentences.items():\n",
    "        messages = [{\n",
    "            \"role\": \"system\",\n",
    "            \"content\": \"You are a helpful assistant. You will be provided with a list of sentences. Please name the cluster based on the sentences. Please return just the name of the cluster. No additional information is needed.\"\n",
    "        \n",
    "        }, {\n",
    "            \"role\": \"user\",\n",
    "            \"content\": \"Name this cluster:\\n\" + json.dumps(cluster)\n",
    "        \n",
    "        }]\n",
    "        name = messages_prompt(messages)\n",
    "        cluster_names[name] = cluster\n",
    "    return cluster_names"
   ]
  },
  {
   "cell_type": "code",
   "execution_count": 19,
   "metadata": {},
   "outputs": [
    {
     "name": "stdout",
     "output_type": "stream",
     "text": [
      "{\n",
      "  \"Food and Eating\": [\n",
      "    \"I'd like an apple\",\n",
      "    \"An apple a day keeps the doctor away\",\n",
      "    \"A man is eating food\",\n",
      "    \"Eating a piece of bread\",\n",
      "    \"Horse is eating hay\",\n",
      "    \"Woman has some Biryani\",\n",
      "    \"The girl is carrying a baby\"\n",
      "  ],\n",
      "  \"Fruit Comparison\": [\n",
      "    \"Never compare an apple to an orange\",\n",
      "    \"I prefer scikit-learn to orange\",\n",
      "    \"The scikit-learn docs are orange\"\n",
      "  ],\n",
      "  \"Animal Actions\": [\n",
      "    \"The baby is carried by the woman\",\n",
      "    \"A man is riding a horse\",\n",
      "    \"A man is riding a white horse on an enclosed ground\",\n",
      "    \"A monkey is playing with a ball\",\n",
      "    \"Someone in a gorilla costume is playing a drum\",\n",
      "    \"A cheetah is running behind its prey\",\n",
      "    \"A cheetah chases its prey across a field\",\n",
      "    \"The cheetah is chasing a man who is riding the horse\",\n",
      "    \"The man and woman witht the baby are watching the cheetah in the zoo\"\n",
      "  ]\n",
      "}\n"
     ]
    }
   ],
   "source": [
    "named_clusters = generate_cluster_names(clustered_sentences)\n",
    "\n",
    "print(json.dumps(named_clusters, indent=2))"
   ]
  }
 ],
 "metadata": {
  "kernelspec": {
   "display_name": ".venv",
   "language": "python",
   "name": "python3"
  },
  "language_info": {
   "codemirror_mode": {
    "name": "ipython",
    "version": 3
   },
   "file_extension": ".py",
   "mimetype": "text/x-python",
   "name": "python",
   "nbconvert_exporter": "python",
   "pygments_lexer": "ipython3",
   "version": "3.12.0"
  }
 },
 "nbformat": 4,
 "nbformat_minor": 2
}
