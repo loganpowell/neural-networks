{
 "cells": [
  {
   "cell_type": "markdown",
   "metadata": {},
   "source": [
    "We have spent some time exploring the space of finding the best answer to a set of particular questions and have delved deeper into this problem space by attempting to find ways of breaking answers down into discretely composable solution parts.\n",
    "\n",
    "This brings us to a new problem: What if the user (herself) doesn't actually know what she wants? How might we improve the question for the user if hers is not sufficiently detailed or formulated?\n",
    "\n",
    "## Proposed approach:\n",
    "- evaluate the question\n",
    "- determine what action(s) might be taken to address the question\n",
    "- if the gathered information produces a broad variety of results, we might determine that more detail should be provided by the user (or by some form of deduction).\n",
    "- if we cannot automatically deduce what elaboration the user might benefit from, provide guidance to the user for how to formulate a better question.\n",
    "\n",
    "## Example\n",
    "User: \"How do I calculate tax\"\n",
    "Assistant: \n",
    "1. run search\n",
    "2. found three results\n",
    "3. evaluation: results vary broadly\n",
    "4. trigger elaboration attempt\n",
    "\"Are you trying to calculate sales tax?\"\n"
   ]
  },
  {
   "cell_type": "code",
   "execution_count": 2,
   "metadata": {},
   "outputs": [],
   "source": [
    "import sys\n",
    "sys.path.append(\"../\")\n",
    "from fns import get_embeddings, messages_prompt, get_intent\n",
    "from tools import search as vector_search, page_scraper, pick"
   ]
  },
  {
   "cell_type": "code",
   "execution_count": 3,
   "metadata": {},
   "outputs": [],
   "source": [
    "import json\n",
    "\n",
    "def essentials(results):\n",
    "    return [result[\"content\"] for result in results[\"value\"]]\n",
    "\n",
    "def prompt(results):\n",
    "    return f\"\"\"\n",
    "You are a helpful assistant. Your job is to determine if a user's question could\n",
    "use better phrasing. If so, you should suggest a better way to phrase the\n",
    "question.\n",
    " \n",
    "You will have both the user's question and a list of search results based on the\n",
    "question. You should use the search results to determine if the user's question\n",
    "could be improved. If the search results vary significantly in their\n",
    "content, you should suggest a better question. If not, you pick one of the\n",
    "search results to answer the user's question.\n",
    "\n",
    "If you choose to suggest a better question return the phrasing you suggest. No \n",
    "additional context is needed.\n",
    "\n",
    "Here are the search results: {json.dumps(essentials(results), indent=2)}\n",
    "\"\"\"\n",
    "\n",
    "def query(question):\n",
    "    embed = get_embeddings(question)\n",
    "    results = vector_search(embeddings=embed)\n",
    "    #print(results)\n",
    "    messages = [{\n",
    "        \"role\": \"system\",\n",
    "        \"content\": prompt(results)\n",
    "    },\n",
    "    {\n",
    "        \"role\": \"user\",\n",
    "        \"content\": question\n",
    "    },\n",
    "    #{\n",
    "    #    \"role\": \"assistant\",\n",
    "    #    \"content\": json.dumps(results)\n",
    "    #},\n",
    "    ]\n",
    "    final = messages_prompt(messages)\n",
    "    return final"
   ]
  },
  {
   "cell_type": "code",
   "execution_count": 4,
   "metadata": {},
   "outputs": [
    {
     "name": "stdout",
     "output_type": "stream",
     "text": [
      "Your question could be more specific to get the most accurate information. You might want to ask, \"How do I look up tax rates by jurisdiction in Pennsylvania?\" or \"How is the Pennsylvania Local Services Tax calculated for payroll?\"\n"
     ]
    }
   ],
   "source": [
    "res1 = query(\"How do you calculate tax in the state of PA?\")\n",
    "print(res1)"
   ]
  },
  {
   "cell_type": "code",
   "execution_count": 5,
   "metadata": {},
   "outputs": [
    {
     "name": "stdout",
     "output_type": "stream",
     "text": [
      "Based on your question, it seems you are interested in the process of calculating sales tax in Pennsylvania. However, the search results provided do not directly answer this question. They discuss looking up tax rates by jurisdiction or Tax Area ID and payroll taxes but do not provide a method for calculating sales tax. \n",
      "\n",
      "A better phrasing might be: \"What is the process to look up sales tax rates in Pennsylvania?\"\n"
     ]
    }
   ],
   "source": [
    "res2 = query(\"How do you calculate sales tax in the state of PA?\")\n",
    "print(res2)"
   ]
  },
  {
   "cell_type": "code",
   "execution_count": 6,
   "metadata": {},
   "outputs": [
    {
     "name": "stdout",
     "output_type": "stream",
     "text": [
      "Your question is quite broad and could be interpreted in many ways. To get more specific information, you might want to ask: \"What are the key components and functionalities of the O Series On-Premise technology?\"\n"
     ]
    }
   ],
   "source": [
    "res3 = query(\"What are the features of O Series?\")\n",
    "print(res3)"
   ]
  }
 ],
 "metadata": {
  "kernelspec": {
   "display_name": ".venv",
   "language": "python",
   "name": "python3"
  },
  "language_info": {
   "codemirror_mode": {
    "name": "ipython",
    "version": 3
   },
   "file_extension": ".py",
   "mimetype": "text/x-python",
   "name": "python",
   "nbconvert_exporter": "python",
   "pygments_lexer": "ipython3",
   "version": "3.12.0"
  }
 },
 "nbformat": 4,
 "nbformat_minor": 2
}
